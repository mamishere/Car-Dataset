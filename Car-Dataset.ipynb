{
 "cells": [
  {
   "attachments": {},
   "cell_type": "markdown",
   "metadata": {},
   "source": [
    "# __Raw Project__"
   ]
  },
  {
   "cell_type": "markdown",
   "metadata": {},
   "source": [
    "## Project Content\n",
    "\n",
    "<a id = 0></a>"
   ]
  },
  {
   "cell_type": "markdown",
   "metadata": {},
   "source": [
    "### First Step: First Organization\n",
    "\n",
    "1. [Introduction](#1)\n",
    "2. [Loading libraries and packages to embark our new journey](#2)\n",
    "3. [Loading and Checking The Dataset](#3)\n",
    "\n",
    "### Second Step: Data Preprocessing\n",
    "\n",
    "4. [Exploratory Data Analysis](#4)\n",
    "5. [Numeric Fields Analysis](#5)\n",
    "6. [Categorical Fields Analysis](#6)\n",
    "7. [Feature Scaling](#7)\n",
    "8. [Correlation Analysis](#8)\n",
    "9. [Dealing with Outliers](#9)\n",
    "10. [Determining Distributions of Numeric Fields](#10)\n",
    "11. [Appllying One Hot Encoding to Categorical Fields](#11)\n",
    "12. [Feature Scaling with The RobustScaler Method](#12)\n",
    "13. [Seperating Data into Two Parts of Train and Test](#13)\n",
    "\n",
    "### Third and Final Step: Modeling\n",
    "\n",
    "16. [Modelling (Logistic Regression)](#16)\n",
    "17. [Cross Validation (Logistic Regression)](#17)\n",
    "18. [AUC-ROC Curve (Logistic Regression)](#18)\n",
    "19. [Hyper Parameter Optimization (Logistic Regression)](#19)\n",
    "20. [Modelling (Decision Tree)](#20)\n",
    "21. [Cross Validation (Decision Tree)](#21)\n",
    "22. [AUC-ROC Curve (Decision Tree)](#22)\n",
    "23. [Hyper Parameter Optimization (Decision Tree)](#23)\n",
    "24. [Modelling (Support Vector Classifier)](#24)\n",
    "25. [Cross Validation (Support Vector Classifier)](#25)\n",
    "26. [AUC-ROC Curve (Support Vector Classifier)](#26)\n",
    "27. [Hyper Parameter Optimization (Support Vector Classifier)](#27)\n",
    "24. [Modelling (Random Forest)](#28)\n",
    "25. [Cross Validation (Support Vector Classifier)](#29)\n",
    "26. [AUC-ROC Curve (Support Vector Classifier)](#30)\n",
    "27. [Hyper Parameter Optimization (Support Vector Classifier)](#31)"
   ]
  },
  {
   "cell_type": "markdown",
   "metadata": {},
   "source": [
    "## 1. Introduction <a id = 1></a>"
   ]
  },
  {
   "cell_type": "markdown",
   "metadata": {},
   "source": [
    "[Project Content](#0)"
   ]
  },
  {
   "cell_type": "markdown",
   "metadata": {},
   "source": [
    "## 2. Loading libraries and packages to embark our new journey <a id = 2></a>"
   ]
  },
  {
   "cell_type": "code",
   "execution_count": 95,
   "metadata": {},
   "outputs": [],
   "source": [
    "# Basic Python Packages\n",
    "\n",
    "import warnings\n",
    "warnings.filterwarnings(\"ignore\")\n",
    "\n",
    "# Numpy Library\n",
    "\n",
    "import numpy as np\n",
    "\n",
    "# Pandas Library\n",
    "\n",
    "import pandas as pd\n",
    "\n",
    "# Visualization Libraries (Matplotlib, Seaborn, Missingno)\n",
    "\n",
    "import matplotlib.pyplot as plt\n",
    "import seaborn as sns\n",
    "import missingno\n",
    "\n",
    "%matplotlib inline"
   ]
  },
  {
   "cell_type": "markdown",
   "metadata": {},
   "source": [
    "[Project Content](#0)"
   ]
  },
  {
   "cell_type": "markdown",
   "metadata": {},
   "source": [
    "## 3. Loading and Checking The Dataset <a id = 3></a>"
   ]
  },
  {
   "cell_type": "markdown",
   "metadata": {},
   "source": [
    "### Loading The Dataset"
   ]
  },
  {
   "cell_type": "code",
   "execution_count": 96,
   "metadata": {},
   "outputs": [],
   "source": [
    "df = pd.read_csv(\"Car-Dataset.csv\")"
   ]
  },
  {
   "cell_type": "markdown",
   "metadata": {},
   "source": [
    "### Checking The Dataset"
   ]
  },
  {
   "cell_type": "code",
   "execution_count": 97,
   "metadata": {},
   "outputs": [
    {
     "data": {
      "text/html": [
       "<div>\n",
       "<style scoped>\n",
       "    .dataframe tbody tr th:only-of-type {\n",
       "        vertical-align: middle;\n",
       "    }\n",
       "\n",
       "    .dataframe tbody tr th {\n",
       "        vertical-align: top;\n",
       "    }\n",
       "\n",
       "    .dataframe thead th {\n",
       "        text-align: right;\n",
       "    }\n",
       "</style>\n",
       "<table border=\"1\" class=\"dataframe\">\n",
       "  <thead>\n",
       "    <tr style=\"text-align: right;\">\n",
       "      <th></th>\n",
       "      <th>Car_Name</th>\n",
       "      <th>Year</th>\n",
       "      <th>Selling_Price</th>\n",
       "      <th>Present_Price</th>\n",
       "      <th>Kms_Driven</th>\n",
       "      <th>Fuel_Type</th>\n",
       "      <th>Seller_Type</th>\n",
       "      <th>Transmission</th>\n",
       "      <th>Owner</th>\n",
       "    </tr>\n",
       "  </thead>\n",
       "  <tbody>\n",
       "    <tr>\n",
       "      <th>0</th>\n",
       "      <td>ritz</td>\n",
       "      <td>2014</td>\n",
       "      <td>3.35</td>\n",
       "      <td>5.59</td>\n",
       "      <td>27000</td>\n",
       "      <td>Petrol</td>\n",
       "      <td>Dealer</td>\n",
       "      <td>Manual</td>\n",
       "      <td>0</td>\n",
       "    </tr>\n",
       "    <tr>\n",
       "      <th>1</th>\n",
       "      <td>sx4</td>\n",
       "      <td>2013</td>\n",
       "      <td>4.75</td>\n",
       "      <td>9.54</td>\n",
       "      <td>43000</td>\n",
       "      <td>Diesel</td>\n",
       "      <td>Dealer</td>\n",
       "      <td>Manual</td>\n",
       "      <td>0</td>\n",
       "    </tr>\n",
       "    <tr>\n",
       "      <th>2</th>\n",
       "      <td>ciaz</td>\n",
       "      <td>2017</td>\n",
       "      <td>7.25</td>\n",
       "      <td>9.85</td>\n",
       "      <td>6900</td>\n",
       "      <td>Petrol</td>\n",
       "      <td>Dealer</td>\n",
       "      <td>Manual</td>\n",
       "      <td>0</td>\n",
       "    </tr>\n",
       "    <tr>\n",
       "      <th>3</th>\n",
       "      <td>wagon r</td>\n",
       "      <td>2011</td>\n",
       "      <td>2.85</td>\n",
       "      <td>4.15</td>\n",
       "      <td>5200</td>\n",
       "      <td>Petrol</td>\n",
       "      <td>Dealer</td>\n",
       "      <td>Manual</td>\n",
       "      <td>0</td>\n",
       "    </tr>\n",
       "    <tr>\n",
       "      <th>4</th>\n",
       "      <td>swift</td>\n",
       "      <td>2014</td>\n",
       "      <td>4.60</td>\n",
       "      <td>6.87</td>\n",
       "      <td>42450</td>\n",
       "      <td>Diesel</td>\n",
       "      <td>Dealer</td>\n",
       "      <td>Manual</td>\n",
       "      <td>0</td>\n",
       "    </tr>\n",
       "  </tbody>\n",
       "</table>\n",
       "</div>"
      ],
      "text/plain": [
       "  Car_Name  Year  Selling_Price  Present_Price  Kms_Driven Fuel_Type  \\\n",
       "0     ritz  2014           3.35           5.59       27000    Petrol   \n",
       "1      sx4  2013           4.75           9.54       43000    Diesel   \n",
       "2     ciaz  2017           7.25           9.85        6900    Petrol   \n",
       "3  wagon r  2011           2.85           4.15        5200    Petrol   \n",
       "4    swift  2014           4.60           6.87       42450    Diesel   \n",
       "\n",
       "  Seller_Type Transmission  Owner  \n",
       "0      Dealer       Manual      0  \n",
       "1      Dealer       Manual      0  \n",
       "2      Dealer       Manual      0  \n",
       "3      Dealer       Manual      0  \n",
       "4      Dealer       Manual      0  "
      ]
     },
     "execution_count": 97,
     "metadata": {},
     "output_type": "execute_result"
    }
   ],
   "source": [
    "df.head(5)"
   ]
  },
  {
   "cell_type": "markdown",
   "metadata": {},
   "source": [
    "### Examining Missing Values"
   ]
  },
  {
   "cell_type": "code",
   "execution_count": 98,
   "metadata": {},
   "outputs": [
    {
     "name": "stdout",
     "output_type": "stream",
     "text": [
      "<class 'pandas.core.frame.DataFrame'>\n",
      "RangeIndex: 301 entries, 0 to 300\n",
      "Data columns (total 9 columns):\n",
      " #   Column         Non-Null Count  Dtype  \n",
      "---  ------         --------------  -----  \n",
      " 0   Car_Name       301 non-null    object \n",
      " 1   Year           301 non-null    int64  \n",
      " 2   Selling_Price  301 non-null    float64\n",
      " 3   Present_Price  301 non-null    float64\n",
      " 4   Kms_Driven     301 non-null    int64  \n",
      " 5   Fuel_Type      301 non-null    object \n",
      " 6   Seller_Type    301 non-null    object \n",
      " 7   Transmission   301 non-null    object \n",
      " 8   Owner          301 non-null    int64  \n",
      "dtypes: float64(2), int64(3), object(4)\n",
      "memory usage: 21.3+ KB\n"
     ]
    }
   ],
   "source": [
    "df.info()"
   ]
  },
  {
   "attachments": {},
   "cell_type": "markdown",
   "metadata": {},
   "source": [
    "### Examining Number of Unique Values"
   ]
  },
  {
   "cell_type": "code",
   "execution_count": 99,
   "metadata": {},
   "outputs": [
    {
     "data": {
      "text/html": [
       "<div>\n",
       "<style scoped>\n",
       "    .dataframe tbody tr th:only-of-type {\n",
       "        vertical-align: middle;\n",
       "    }\n",
       "\n",
       "    .dataframe tbody tr th {\n",
       "        vertical-align: top;\n",
       "    }\n",
       "\n",
       "    .dataframe thead th {\n",
       "        text-align: right;\n",
       "    }\n",
       "</style>\n",
       "<table border=\"1\" class=\"dataframe\">\n",
       "  <thead>\n",
       "    <tr style=\"text-align: right;\">\n",
       "      <th></th>\n",
       "      <th>Column_Name</th>\n",
       "      <th>Unique_Values_Num</th>\n",
       "    </tr>\n",
       "  </thead>\n",
       "  <tbody>\n",
       "    <tr>\n",
       "      <th>0</th>\n",
       "      <td>Car_Name</td>\n",
       "      <td>98</td>\n",
       "    </tr>\n",
       "    <tr>\n",
       "      <th>1</th>\n",
       "      <td>Year</td>\n",
       "      <td>16</td>\n",
       "    </tr>\n",
       "    <tr>\n",
       "      <th>2</th>\n",
       "      <td>Selling_Price</td>\n",
       "      <td>156</td>\n",
       "    </tr>\n",
       "    <tr>\n",
       "      <th>3</th>\n",
       "      <td>Present_Price</td>\n",
       "      <td>147</td>\n",
       "    </tr>\n",
       "    <tr>\n",
       "      <th>4</th>\n",
       "      <td>Kms_Driven</td>\n",
       "      <td>206</td>\n",
       "    </tr>\n",
       "    <tr>\n",
       "      <th>5</th>\n",
       "      <td>Fuel_Type</td>\n",
       "      <td>3</td>\n",
       "    </tr>\n",
       "    <tr>\n",
       "      <th>6</th>\n",
       "      <td>Seller_Type</td>\n",
       "      <td>2</td>\n",
       "    </tr>\n",
       "    <tr>\n",
       "      <th>7</th>\n",
       "      <td>Transmission</td>\n",
       "      <td>2</td>\n",
       "    </tr>\n",
       "    <tr>\n",
       "      <th>8</th>\n",
       "      <td>Owner</td>\n",
       "      <td>3</td>\n",
       "    </tr>\n",
       "  </tbody>\n",
       "</table>\n",
       "</div>"
      ],
      "text/plain": [
       "     Column_Name  Unique_Values_Num\n",
       "0       Car_Name                 98\n",
       "1           Year                 16\n",
       "2  Selling_Price                156\n",
       "3  Present_Price                147\n",
       "4     Kms_Driven                206\n",
       "5      Fuel_Type                  3\n",
       "6    Seller_Type                  2\n",
       "7   Transmission                  2\n",
       "8          Owner                  3"
      ]
     },
     "execution_count": 99,
     "metadata": {},
     "output_type": "execute_result"
    }
   ],
   "source": [
    "unique_values_df = pd.DataFrame(columns = [\"Column_Name\", \"Unique_Values_Num\"])\n",
    "\n",
    "columns_list = []\n",
    "unique_values_list = []\n",
    "\n",
    "for column in df.columns:\n",
    "    \n",
    "    columns_list += [column]\n",
    "    unique_values_list += [df[column].nunique()]\n",
    "    \n",
    "unique_values_df[\"Column_Name\"] = columns_list\n",
    "unique_values_df[\"Unique_Values_Num\"] = unique_values_list\n",
    "    \n",
    "unique_values_df"
   ]
  },
  {
   "attachments": {},
   "cell_type": "markdown",
   "metadata": {},
   "source": [
    "### Deleting Car Name Column"
   ]
  },
  {
   "cell_type": "code",
   "execution_count": 100,
   "metadata": {},
   "outputs": [
    {
     "data": {
      "text/html": [
       "<div>\n",
       "<style scoped>\n",
       "    .dataframe tbody tr th:only-of-type {\n",
       "        vertical-align: middle;\n",
       "    }\n",
       "\n",
       "    .dataframe tbody tr th {\n",
       "        vertical-align: top;\n",
       "    }\n",
       "\n",
       "    .dataframe thead th {\n",
       "        text-align: right;\n",
       "    }\n",
       "</style>\n",
       "<table border=\"1\" class=\"dataframe\">\n",
       "  <thead>\n",
       "    <tr style=\"text-align: right;\">\n",
       "      <th></th>\n",
       "      <th>Year</th>\n",
       "      <th>Selling_Price</th>\n",
       "      <th>Present_Price</th>\n",
       "      <th>Kms_Driven</th>\n",
       "      <th>Fuel_Type</th>\n",
       "      <th>Seller_Type</th>\n",
       "      <th>Transmission</th>\n",
       "      <th>Owner</th>\n",
       "    </tr>\n",
       "  </thead>\n",
       "  <tbody>\n",
       "    <tr>\n",
       "      <th>0</th>\n",
       "      <td>2014</td>\n",
       "      <td>3.35</td>\n",
       "      <td>5.59</td>\n",
       "      <td>27000</td>\n",
       "      <td>Petrol</td>\n",
       "      <td>Dealer</td>\n",
       "      <td>Manual</td>\n",
       "      <td>0</td>\n",
       "    </tr>\n",
       "    <tr>\n",
       "      <th>1</th>\n",
       "      <td>2013</td>\n",
       "      <td>4.75</td>\n",
       "      <td>9.54</td>\n",
       "      <td>43000</td>\n",
       "      <td>Diesel</td>\n",
       "      <td>Dealer</td>\n",
       "      <td>Manual</td>\n",
       "      <td>0</td>\n",
       "    </tr>\n",
       "    <tr>\n",
       "      <th>2</th>\n",
       "      <td>2017</td>\n",
       "      <td>7.25</td>\n",
       "      <td>9.85</td>\n",
       "      <td>6900</td>\n",
       "      <td>Petrol</td>\n",
       "      <td>Dealer</td>\n",
       "      <td>Manual</td>\n",
       "      <td>0</td>\n",
       "    </tr>\n",
       "    <tr>\n",
       "      <th>3</th>\n",
       "      <td>2011</td>\n",
       "      <td>2.85</td>\n",
       "      <td>4.15</td>\n",
       "      <td>5200</td>\n",
       "      <td>Petrol</td>\n",
       "      <td>Dealer</td>\n",
       "      <td>Manual</td>\n",
       "      <td>0</td>\n",
       "    </tr>\n",
       "    <tr>\n",
       "      <th>4</th>\n",
       "      <td>2014</td>\n",
       "      <td>4.60</td>\n",
       "      <td>6.87</td>\n",
       "      <td>42450</td>\n",
       "      <td>Diesel</td>\n",
       "      <td>Dealer</td>\n",
       "      <td>Manual</td>\n",
       "      <td>0</td>\n",
       "    </tr>\n",
       "  </tbody>\n",
       "</table>\n",
       "</div>"
      ],
      "text/plain": [
       "   Year  Selling_Price  Present_Price  Kms_Driven Fuel_Type Seller_Type  \\\n",
       "0  2014           3.35           5.59       27000    Petrol      Dealer   \n",
       "1  2013           4.75           9.54       43000    Diesel      Dealer   \n",
       "2  2017           7.25           9.85        6900    Petrol      Dealer   \n",
       "3  2011           2.85           4.15        5200    Petrol      Dealer   \n",
       "4  2014           4.60           6.87       42450    Diesel      Dealer   \n",
       "\n",
       "  Transmission  Owner  \n",
       "0       Manual      0  \n",
       "1       Manual      0  \n",
       "2       Manual      0  \n",
       "3       Manual      0  \n",
       "4       Manual      0  "
      ]
     },
     "execution_count": 100,
     "metadata": {},
     "output_type": "execute_result"
    }
   ],
   "source": [
    "del df[\"Car_Name\"]\n",
    "\n",
    "df.head(5)"
   ]
  },
  {
   "attachments": {},
   "cell_type": "markdown",
   "metadata": {},
   "source": [
    "### Separating Fields to Numerical and Categorical"
   ]
  },
  {
   "cell_type": "code",
   "execution_count": 103,
   "metadata": {},
   "outputs": [
    {
     "name": "stdout",
     "output_type": "stream",
     "text": [
      "Categorical fields are:       ['Fuel_Type', 'Seller_Type', 'Transmission', 'Owner']\n",
      "Numerical fields are:         ['Year', 'Selling_Price', 'Present_Price', 'Kms_Driven']\n"
     ]
    }
   ],
   "source": [
    "columns_list = list(df.columns)\n",
    "cat_f = [\"Fuel_Type\", \"Seller_Type\", \"Transmission\", \"Owner\"]\n",
    "num_f = columns_list\n",
    "\n",
    "for column in cat_f:\n",
    "    num_f.remove(column)\n",
    "\n",
    "print(\"Categorical fields are:      \", cat_f)\n",
    "print(\"Numerical fields are:        \", num_f)"
   ]
  },
  {
   "cell_type": "markdown",
   "metadata": {},
   "source": [
    "[Project Content](#0)"
   ]
  },
  {
   "cell_type": "markdown",
   "metadata": {},
   "source": [
    "## 4. Exploratory Data Analysis <a id = 4></a>"
   ]
  },
  {
   "cell_type": "markdown",
   "metadata": {},
   "source": [
    "### Examining Statistics of Numeric Fields"
   ]
  },
  {
   "cell_type": "markdown",
   "metadata": {},
   "source": [
    "### Examining Statistics of Categorical Fields"
   ]
  },
  {
   "cell_type": "markdown",
   "metadata": {},
   "source": [
    "### Examining The Missing Data"
   ]
  },
  {
   "cell_type": "markdown",
   "metadata": {},
   "source": [
    "### Filling The Missing Values"
   ]
  },
  {
   "cell_type": "markdown",
   "metadata": {},
   "source": [
    "[Project Content](#0)"
   ]
  },
  {
   "cell_type": "markdown",
   "metadata": {},
   "source": [
    "## 5. Numeric Fields Analysis <a id = 5></a>"
   ]
  },
  {
   "cell_type": "markdown",
   "metadata": {},
   "source": [
    "### Bi-Variate Analysis between Numeric Fields and Target"
   ]
  },
  {
   "cell_type": "markdown",
   "metadata": {},
   "source": [
    "### Analysis between Numeric Fields Among Themselves"
   ]
  },
  {
   "cell_type": "markdown",
   "metadata": {},
   "source": [
    "### Correlation Analysis between Numeric Fields and Target"
   ]
  },
  {
   "cell_type": "markdown",
   "metadata": {},
   "source": [
    "[Project Content](#0)"
   ]
  },
  {
   "cell_type": "markdown",
   "metadata": {},
   "source": [
    "## 6. Categorical Fields Analysis <a id = 6></a>"
   ]
  },
  {
   "cell_type": "markdown",
   "metadata": {},
   "source": [
    "### Bi-Variate Analysis between Categorical Fields and Target"
   ]
  },
  {
   "cell_type": "markdown",
   "metadata": {},
   "source": [
    "### Correlation Analysis between Categorical Fields and Target"
   ]
  },
  {
   "cell_type": "markdown",
   "metadata": {},
   "source": [
    "[Project Content](#0)"
   ]
  },
  {
   "cell_type": "markdown",
   "metadata": {},
   "source": [
    "## 7. Feature Scaling <a id = 7></a>"
   ]
  },
  {
   "cell_type": "markdown",
   "metadata": {},
   "source": [
    "[Project Content](#0)"
   ]
  },
  {
   "cell_type": "markdown",
   "id": "8203207b",
   "metadata": {
    "papermill": {
     "duration": 0.329495,
     "end_time": "2022-04-21T13:58:27.622505",
     "exception": false,
     "start_time": "2022-04-21T13:58:27.293010",
     "status": "completed"
    },
    "tags": []
   },
   "source": [
    "## 8. Correlation Analysis <a id = 8></a> "
   ]
  },
  {
   "cell_type": "markdown",
   "id": "8203207b",
   "metadata": {
    "papermill": {
     "duration": 0.329495,
     "end_time": "2022-04-21T13:58:27.622505",
     "exception": false,
     "start_time": "2022-04-21T13:58:27.293010",
     "status": "completed"
    },
    "tags": []
   },
   "source": [
    "### Numeric fields and Target Value Correlation Analysis"
   ]
  },
  {
   "cell_type": "markdown",
   "id": "dc4085c2",
   "metadata": {
    "papermill": {
     "duration": 0.330287,
     "end_time": "2022-04-21T13:58:33.896590",
     "exception": false,
     "start_time": "2022-04-21T13:58:33.566303",
     "status": "completed"
    },
    "tags": []
   },
   "source": [
    "### Numeric and Categorical Fields Correlation Analysis"
   ]
  },
  {
   "cell_type": "markdown",
   "id": "dc4085c2",
   "metadata": {
    "papermill": {
     "duration": 0.330287,
     "end_time": "2022-04-21T13:58:33.896590",
     "exception": false,
     "start_time": "2022-04-21T13:58:33.566303",
     "status": "completed"
    },
    "tags": []
   },
   "source": [
    "### Dropping Columns with Low Correlation"
   ]
  },
  {
   "cell_type": "markdown",
   "metadata": {},
   "source": [
    "[Project Content](#0)"
   ]
  },
  {
   "cell_type": "markdown",
   "id": "dc4085c2",
   "metadata": {
    "papermill": {
     "duration": 0.330287,
     "end_time": "2022-04-21T13:58:33.896590",
     "exception": false,
     "start_time": "2022-04-21T13:58:33.566303",
     "status": "completed"
    },
    "tags": []
   },
   "source": [
    "## 9. Dealing with Outliers <a id = 9></a> "
   ]
  },
  {
   "cell_type": "markdown",
   "metadata": {},
   "source": [
    "[Project Content](#0)"
   ]
  },
  {
   "cell_type": "markdown",
   "id": "dc4085c2",
   "metadata": {
    "papermill": {
     "duration": 0.330287,
     "end_time": "2022-04-21T13:58:33.896590",
     "exception": false,
     "start_time": "2022-04-21T13:58:33.566303",
     "status": "completed"
    },
    "tags": []
   },
   "source": [
    "### 12. Determining Distributions of Numeric Fields <a id = 12></a> "
   ]
  },
  {
   "cell_type": "markdown",
   "metadata": {},
   "source": [
    "[Project Content](#0)"
   ]
  },
  {
   "cell_type": "markdown",
   "id": "dc4085c2",
   "metadata": {
    "papermill": {
     "duration": 0.330287,
     "end_time": "2022-04-21T13:58:33.896590",
     "exception": false,
     "start_time": "2022-04-21T13:58:33.566303",
     "status": "completed"
    },
    "tags": []
   },
   "source": [
    "### 13. Appllying One Hot Encoding to Categorical Fields <a id = 13></a> "
   ]
  },
  {
   "cell_type": "markdown",
   "metadata": {},
   "source": [
    "[Project Content](#0)"
   ]
  },
  {
   "cell_type": "markdown",
   "id": "dc4085c2",
   "metadata": {
    "papermill": {
     "duration": 0.330287,
     "end_time": "2022-04-21T13:58:33.896590",
     "exception": false,
     "start_time": "2022-04-21T13:58:33.566303",
     "status": "completed"
    },
    "tags": []
   },
   "source": [
    "### 14. Feature Scaling with The RobustScaler Method <a id = 14></a> "
   ]
  },
  {
   "cell_type": "markdown",
   "metadata": {},
   "source": [
    "[Project Content](#0)"
   ]
  },
  {
   "cell_type": "markdown",
   "id": "dc4085c2",
   "metadata": {
    "papermill": {
     "duration": 0.330287,
     "end_time": "2022-04-21T13:58:33.896590",
     "exception": false,
     "start_time": "2022-04-21T13:58:33.566303",
     "status": "completed"
    },
    "tags": []
   },
   "source": [
    "### 15. Seperating Data into Two Parts of Train and Test <a id = 15></a> "
   ]
  },
  {
   "cell_type": "markdown",
   "metadata": {},
   "source": [
    "[Project Content](#0)"
   ]
  },
  {
   "cell_type": "markdown",
   "id": "dc4085c2",
   "metadata": {
    "papermill": {
     "duration": 0.330287,
     "end_time": "2022-04-21T13:58:33.896590",
     "exception": false,
     "start_time": "2022-04-21T13:58:33.566303",
     "status": "completed"
    },
    "tags": []
   },
   "source": [
    "### 16. Modelling (Logistic Regression) <a id = 16></a> "
   ]
  },
  {
   "cell_type": "markdown",
   "id": "dc4085c2",
   "metadata": {
    "papermill": {
     "duration": 0.330287,
     "end_time": "2022-04-21T13:58:33.896590",
     "exception": false,
     "start_time": "2022-04-21T13:58:33.566303",
     "status": "completed"
    },
    "tags": []
   },
   "source": [
    "### 17. Cross Validation (Logistic Regression) <a id = 17></a> "
   ]
  },
  {
   "cell_type": "markdown",
   "id": "dc4085c2",
   "metadata": {
    "papermill": {
     "duration": 0.330287,
     "end_time": "2022-04-21T13:58:33.896590",
     "exception": false,
     "start_time": "2022-04-21T13:58:33.566303",
     "status": "completed"
    },
    "tags": []
   },
   "source": [
    "### 18. AUC-ROC Curve (Logistic Regression) <a id = 18></a> "
   ]
  },
  {
   "cell_type": "markdown",
   "id": "dc4085c2",
   "metadata": {
    "papermill": {
     "duration": 0.330287,
     "end_time": "2022-04-21T13:58:33.896590",
     "exception": false,
     "start_time": "2022-04-21T13:58:33.566303",
     "status": "completed"
    },
    "tags": []
   },
   "source": [
    "### 19. Hyper Parameter Optimization (Logistic Regression) <a id = 19></a> "
   ]
  },
  {
   "cell_type": "markdown",
   "id": "dc4085c2",
   "metadata": {
    "papermill": {
     "duration": 0.330287,
     "end_time": "2022-04-21T13:58:33.896590",
     "exception": false,
     "start_time": "2022-04-21T13:58:33.566303",
     "status": "completed"
    },
    "tags": []
   },
   "source": [
    "### 20. Modelling (Desicion Tree) <a id = 20></a> "
   ]
  },
  {
   "cell_type": "markdown",
   "id": "dc4085c2",
   "metadata": {
    "papermill": {
     "duration": 0.330287,
     "end_time": "2022-04-21T13:58:33.896590",
     "exception": false,
     "start_time": "2022-04-21T13:58:33.566303",
     "status": "completed"
    },
    "tags": []
   },
   "source": [
    "### 21. Cross Validation (Desicion Tree) <a id = 21></a> "
   ]
  },
  {
   "cell_type": "markdown",
   "id": "dc4085c2",
   "metadata": {
    "papermill": {
     "duration": 0.330287,
     "end_time": "2022-04-21T13:58:33.896590",
     "exception": false,
     "start_time": "2022-04-21T13:58:33.566303",
     "status": "completed"
    },
    "tags": []
   },
   "source": [
    "### 22. AUC-ROC Curve (Desicion Tree) <a id = 22></a> "
   ]
  },
  {
   "cell_type": "markdown",
   "id": "dc4085c2",
   "metadata": {
    "papermill": {
     "duration": 0.330287,
     "end_time": "2022-04-21T13:58:33.896590",
     "exception": false,
     "start_time": "2022-04-21T13:58:33.566303",
     "status": "completed"
    },
    "tags": []
   },
   "source": [
    "### 23. Hyper Parameter Optimization (Desicion Tree) <a id = 23></a> "
   ]
  },
  {
   "cell_type": "markdown",
   "id": "dc4085c2",
   "metadata": {
    "papermill": {
     "duration": 0.330287,
     "end_time": "2022-04-21T13:58:33.896590",
     "exception": false,
     "start_time": "2022-04-21T13:58:33.566303",
     "status": "completed"
    },
    "tags": []
   },
   "source": [
    "### 24. Modelling (Support Vector Classification) <a id = 24></a> "
   ]
  },
  {
   "cell_type": "markdown",
   "id": "dc4085c2",
   "metadata": {
    "papermill": {
     "duration": 0.330287,
     "end_time": "2022-04-21T13:58:33.896590",
     "exception": false,
     "start_time": "2022-04-21T13:58:33.566303",
     "status": "completed"
    },
    "tags": []
   },
   "source": [
    "### 25. Cross Validation (Support Vector Classification) <a id = 25></a> "
   ]
  },
  {
   "cell_type": "markdown",
   "id": "dc4085c2",
   "metadata": {
    "papermill": {
     "duration": 0.330287,
     "end_time": "2022-04-21T13:58:33.896590",
     "exception": false,
     "start_time": "2022-04-21T13:58:33.566303",
     "status": "completed"
    },
    "tags": []
   },
   "source": [
    "### 26. AUC-ROC Curve (Support Vector Classification) <a id = 26></a> "
   ]
  },
  {
   "cell_type": "markdown",
   "id": "dc4085c2",
   "metadata": {
    "papermill": {
     "duration": 0.330287,
     "end_time": "2022-04-21T13:58:33.896590",
     "exception": false,
     "start_time": "2022-04-21T13:58:33.566303",
     "status": "completed"
    },
    "tags": []
   },
   "source": [
    "### 27. Hyper Parameter Optimization (Support Vector Classification) <a id = 27></a> "
   ]
  },
  {
   "cell_type": "markdown",
   "id": "dc4085c2",
   "metadata": {
    "papermill": {
     "duration": 0.330287,
     "end_time": "2022-04-21T13:58:33.896590",
     "exception": false,
     "start_time": "2022-04-21T13:58:33.566303",
     "status": "completed"
    },
    "tags": []
   },
   "source": [
    "### 28. Modelling (Random Forest Classification) <a id = 28></a> "
   ]
  },
  {
   "cell_type": "markdown",
   "id": "dc4085c2",
   "metadata": {
    "papermill": {
     "duration": 0.330287,
     "end_time": "2022-04-21T13:58:33.896590",
     "exception": false,
     "start_time": "2022-04-21T13:58:33.566303",
     "status": "completed"
    },
    "tags": []
   },
   "source": [
    "### 29. Cross Validation (Random Forest Classification) <a id = 29></a> "
   ]
  },
  {
   "cell_type": "markdown",
   "id": "dc4085c2",
   "metadata": {
    "papermill": {
     "duration": 0.330287,
     "end_time": "2022-04-21T13:58:33.896590",
     "exception": false,
     "start_time": "2022-04-21T13:58:33.566303",
     "status": "completed"
    },
    "tags": []
   },
   "source": [
    "### 30. AUC-ROC Curve (Random Forest Classification) <a id = 30></a> "
   ]
  },
  {
   "cell_type": "markdown",
   "id": "dc4085c2",
   "metadata": {
    "papermill": {
     "duration": 0.330287,
     "end_time": "2022-04-21T13:58:33.896590",
     "exception": false,
     "start_time": "2022-04-21T13:58:33.566303",
     "status": "completed"
    },
    "tags": []
   },
   "source": [
    "### 31. Hyper Parameter Optimization (Random Forest Classification) <a id = 31></a> "
   ]
  }
 ],
 "metadata": {
  "kernelspec": {
   "display_name": "Python 3.9 (tensorflow)",
   "language": "python",
   "name": "tensorflow"
  },
  "language_info": {
   "codemirror_mode": {
    "name": "ipython",
    "version": 3
   },
   "file_extension": ".py",
   "mimetype": "text/x-python",
   "name": "python",
   "nbconvert_exporter": "python",
   "pygments_lexer": "ipython3",
   "version": "3.9.13"
  },
  "vscode": {
   "interpreter": {
    "hash": "4bd624a0593993fe43ac4046b27b898fb2ef75c21c08f81e89e64ea0f51df676"
   }
  }
 },
 "nbformat": 4,
 "nbformat_minor": 2
}
