{
 "cells": [
  {
   "attachments": {},
   "cell_type": "markdown",
   "metadata": {},
   "source": [
    "# __Car Dataset Analysis and Selling Price Prediction__"
   ]
  },
  {
   "cell_type": "markdown",
   "metadata": {},
   "source": [
    "## Project Content\n",
    "\n",
    "<a id = 0></a>"
   ]
  },
  {
   "attachments": {},
   "cell_type": "markdown",
   "metadata": {},
   "source": [
    "### First Step: First Organization\n",
    "\n",
    "1. [Introduction](#1)\n",
    "2. [Loading packages and Defining Functions to Embark Our New Journey](#2)\n",
    "3. [Loading and Checking The Dataset](#3)\n",
    "\n",
    "### Second Step: Data Preprocessing\n",
    "\n",
    "4. [Exploratory Data Analysis](#4)\n",
    "5. [Adding an Integer Field for Each Categorical Field](#5)\n",
    "6. [Correlation Analysis](#6)\n",
    "7. [Dealing with Outliers](#7)\n",
    "8. [Seperating Data into Two Parts of Train and Development Datasets](#8)\n",
    "\n",
    "### Third and Final Step: Modeling\n",
    "\n",
    "9. [Linear Regression](#9)\n",
    "10. [Extreme Gradient Boosting Regression](#10)\n",
    "11. [Light Gradient Boosting Machine Regression](#11)\n",
    "12. [Gradient Boosting Regression](#12)\n",
    "13. [Cat Boost Regression](#13)\n",
    "14. [Conclusion](#14)\n"
   ]
  },
  {
   "cell_type": "markdown",
   "metadata": {},
   "source": [
    "## 1. Introduction <a id = 1></a>"
   ]
  },
  {
   "attachments": {},
   "cell_type": "markdown",
   "metadata": {},
   "source": [
    "Here we want to work on a car dataset contains 301 records and 9 features. These features are:\n",
    "\n",
    "- **Car_Name**\n",
    "\n",
    "    This field shows the cars' names and has a different variation of car models. It doesn't seem to be helpful in our project.\n",
    "    But we have to check out its values to be sure if we don't want to use this field in our model.\n",
    "\n",
    "- **Year**\n",
    "\n",
    "    The older the vehicle, the chepaer the price! We can assume this hypothesis but what if a car was a kind of antiquate. We don't know and have to check these ideas.\n",
    "\n",
    "- **Selling_Price**\n",
    "\n",
    "    In the end it seems that we want to predict the selling price of a car with an eclectic set of features. We will discuss more about this later on the project.\n",
    "\n",
    "- **Present_Price**\n",
    "\n",
    "    I don't know but I guess the price of a used vehicle to sell highly depends on its new one's selling price. But wait to check this hypothesis statistically,\n",
    "\n",
    "- **Kms_Driven**\n",
    "\n",
    "    humm... The older the car, we can assume it has been used more. What to do now? It seems both the features year and kms driven are telling us the same thing.\n",
    "\n",
    "- **Fuel_Type**\n",
    "\n",
    "    I have no idea about how the fuel type change the price of a car. We'll discuss about this issue later.\n",
    "\n",
    "- **Seller_Type**\n",
    "\n",
    "    I think dealer can sell a car in a higher price. If not, what's the reason to be a diller? :)\n",
    "\n",
    "- **Transmission**\n",
    "\n",
    "    How does the transmission type can determine the selling price? No idea.\n",
    "\n",
    "- **Owner**\n",
    "\n",
    "    And the last field is the owner feature and we have no information about this field. I presume this field tells us about how many owners a car has had till now? Am I right?"
   ]
  },
  {
   "cell_type": "markdown",
   "metadata": {},
   "source": [
    "[Project Content](#0)"
   ]
  },
  {
   "attachments": {},
   "cell_type": "markdown",
   "metadata": {},
   "source": [
    "## 2. Loading packages and Defining Functions to Embark Our New Journey <a id = 2></a>"
   ]
  },
  {
   "cell_type": "code",
   "execution_count": 101,
   "metadata": {},
   "outputs": [],
   "source": [
    "# Basic Python Packages\n",
    "\n",
    "import warnings\n",
    "warnings.filterwarnings(\"ignore\")\n",
    "\n",
    "# Numpy Library\n",
    "\n",
    "import numpy as np\n",
    "\n",
    "# Pandas Library\n",
    "\n",
    "import pandas as pd\n",
    "\n",
    "# Visualization Libraries (Matplotlib, Seaborn, Missingno)\n",
    "\n",
    "import matplotlib.pyplot as plt\n",
    "import seaborn as sns\n",
    "import missingno\n",
    "\n",
    "# Statsmodels Modules\n",
    "\n",
    "from statsmodels.stats.outliers_influence import variance_inflation_factor\n",
    "\n",
    "# SciPy\n",
    "\n",
    "from scipy.stats import shapiro\n",
    "\n",
    "# Sklean Modules\n",
    "\n",
    "from sklearn.model_selection import train_test_split\n",
    "from sklearn.linear_model import LinearRegression\n",
    "from sklearn.kernel_ridge import KernelRidge\n",
    "from sklearn.linear_model import ElasticNet\n",
    "from sklearn.linear_model import BayesianRidge\n",
    "from sklearn.ensemble import GradientBoostingRegressor\n",
    "\n",
    "# Other Modeling Modules\n",
    "\n",
    "from lightgbm import LGBMRegressor\n",
    "from xgboost.sklearn import XGBRegressor\n",
    "from catboost import CatBoostRegressor\n",
    "\n",
    "%matplotlib inline"
   ]
  },
  {
   "cell_type": "code",
   "execution_count": 102,
   "metadata": {},
   "outputs": [],
   "source": [
    "def f_num_unique_values(dataframe, fields = None):\n",
    "    \"\"\"\n",
    "    By this function we can check how many unique values each field has\n",
    "\n",
    "    Args:\n",
    "        dataframe (pandas.core.frame.DataFrame): The main dataframe\n",
    "        fields (list): The fields we want to check number of their unique values\n",
    "    \"\"\"\n",
    "    \n",
    "    num_unique_values_df = pd.DataFrame(columns = [\"Field_Name\", \"Unique_Values_Num\"])\n",
    "\n",
    "    if fields == None:\n",
    "        fields = dataframe.columns\n",
    "        \n",
    "    num_unique_values = []\n",
    "\n",
    "    for field in fields:\n",
    "        \n",
    "        num_unique_values += [dataframe[field].nunique()]\n",
    "        \n",
    "    num_unique_values_df[\"Field_Name\"] = fields\n",
    "    num_unique_values_df[\"Unique_Values_Num\"] = num_unique_values\n",
    "        \n",
    "    return num_unique_values_df"
   ]
  },
  {
   "cell_type": "code",
   "execution_count": 103,
   "metadata": {},
   "outputs": [],
   "source": [
    "def f_unique_values(dataframe, fields):\n",
    "    \"\"\"\n",
    "    By this function we can get a dataframe and categorical fields and show a dataframe of unique values of each field.\n",
    "\n",
    "    Args:\n",
    "        dataframe (pandas.core.frame.DataFrame): The main dataframe\n",
    "        fields (list): The fields we want to check their unique values\n",
    "        \n",
    "    Returns:\n",
    "        unique_values_df (pandas.core.frame.DataFrame): A dataframe of fields and their unique values\n",
    "    \"\"\"\n",
    "    \n",
    "    unique_values_df = pd.DataFrame(columns = [\"Field_Name\", \"Unique_Values\"])\n",
    "\n",
    "    fields_list = []\n",
    "    unique_values_list = []\n",
    "\n",
    "    for field in fields:\n",
    "\n",
    "        fields_list += [field]\n",
    "        field_unique_values_list = list(dataframe[field].unique())\n",
    "            \n",
    "        unique_values_str = \"\"\n",
    "            \n",
    "        for values_str in field_unique_values_list:\n",
    "            if field_unique_values_list.index(values_str) != len(field_unique_values_list) - 1:\n",
    "                unique_values_str += str(values_str) + \" | \"\n",
    "            else:\n",
    "                unique_values_str += str(values_str)                 \n",
    "            \n",
    "        unique_values_list += [unique_values_str]\n",
    "        \n",
    "    unique_values_df[\"Field_Name\"] = fields_list\n",
    "    unique_values_df[\"Unique_Values\"] = unique_values_list\n",
    "        \n",
    "    return unique_values_df"
   ]
  },
  {
   "cell_type": "code",
   "execution_count": 104,
   "metadata": {},
   "outputs": [],
   "source": [
    "def f_cat_to_int(dataframe, fields = None):\n",
    "    \"\"\"\n",
    "    This function helps to change categorical fields' values to numerical format.\n",
    "\n",
    "    Args:\n",
    "        dataframe (pandas.core.frame.DataFrame): The main dataframe\n",
    "        fields (list): The fields which we want to duplicate a integer format of them\n",
    "\n",
    "    Returns:\n",
    "        dataframe (pandas.core.frame.DataFrame): A dataframe which categorical fields have integer values\n",
    "    \"\"\"\n",
    "    \n",
    "    if fields == None:\n",
    "        fields = list(dataframe.columns)\n",
    "        \n",
    "    cat_dict = {}\n",
    "\n",
    "    for field in fields:\n",
    "        \n",
    "        cat_dict[field + \"_str\"] = list(dataframe[field].unique())\n",
    "        cat_dict[field + \"_int\"] = [i for i in range(0, len(list(dataframe[field].unique())))]\n",
    "\n",
    "        dataframe[field + \"_int\"] = dataframe[field]\n",
    "        dataframe[field + \"_int\"].replace(cat_dict[field + \"_str\"], cat_dict[field + \"_int\"], inplace = True)\n",
    "        \n",
    "    return dataframe"
   ]
  },
  {
   "cell_type": "code",
   "execution_count": 105,
   "metadata": {},
   "outputs": [],
   "source": [
    "def f_sorted_correlations(dataframe, fields = None, omited_fields = None, target_field = None, cat_num = None):\n",
    "    \"\"\"\n",
    "    This function get a dataframe and fields to create a dataframe of correlation based on our demands.\n",
    "    It can show a dataframe of correlations between each two fields in a sorted manner and also it can show a one row sorted correlation values between non-target fields and the target.\n",
    "\n",
    "    Args:\n",
    "        dataframe (pandas.core.frame.DataFrame): The main dataframe\n",
    "        fields (list, optional): The fields we want to check their correlation\n",
    "        omited_fields (list, optional): The fields we dont want to check their correlation\n",
    "        target_field (list, optional): The target field we want to check its correlation with other fields\n",
    "        cat_num (list, optional): The target field we want to check its correlation with other fields\n",
    "        \n",
    "    Returns:\n",
    "        corr_df (pandas.core.frame.DataFrame): Final correlation matrix\n",
    "    \"\"\"\n",
    "    \n",
    "    if fields == None:\n",
    "        fields = list(dataframe.columns)\n",
    "    \n",
    "    corr_dict = {}\n",
    "    all_correlation_df = dataframe[fields].corr()\n",
    "    \n",
    "    if cat_num == None:\n",
    "        \n",
    "        if omited_fields != None:\n",
    "            all_correlation_df.drop(omited_fields, axis = 0, inplace = True)\n",
    "            all_correlation_df.drop(omited_fields, axis = 1, inplace = True)\n",
    "        \n",
    "        if target_field == None:\n",
    "            for row in range(0, len(list(all_correlation_df.columns))):\n",
    "                for column in range(row, len(list(all_correlation_df.columns))):\n",
    "                    if row < column:\n",
    "                        corr_dict[f\"{list(all_correlation_df.columns)[row]}, {list(all_correlation_df.columns)[column]}\"] = all_correlation_df.iloc[row, column]\n",
    "\n",
    "            corr_df = pd.DataFrame(columns = [\"Fields\", \"Correlation_Value\"])\n",
    "\n",
    "            corr_df[\"Fields\"] = list(corr_dict.keys())\n",
    "            corr_df[\"Correlation_Value\"] = list(corr_dict.values())\n",
    "            corr_df.sort_values(by = \"Correlation_Value\", inplace = True)\n",
    "            \n",
    "        else:\n",
    "            corr_df = all_correlation_df[[target_field]]\n",
    "            corr_df = corr_df.sort_values(by = target_field)\n",
    "            corr_df.drop(target_field, axis = 0, inplace = True)\n",
    "            corr_df = corr_df.T\n",
    "            \n",
    "    else:\n",
    "        \n",
    "        corr_df = ((dataframe[cat_num[0] + cat_num[1]].corr()[cat_num[0]]).T)[cat_num[1]]\n",
    "\n",
    "    return corr_df"
   ]
  },
  {
   "cell_type": "code",
   "execution_count": 106,
   "metadata": {},
   "outputs": [],
   "source": [
    "def f_vif_function(dataframe, omited_fields = None):\n",
    "    \"\"\"\n",
    "    This function show a dataframe with sorted values of VIF of each field.\n",
    "\n",
    "    Args:\n",
    "        dataframe (pandas.core.frame.DataFrame): The main dataframe\n",
    "        omited_fields (list, optional): The fields we dont want to check their correlation\n",
    "                \n",
    "    Returns:\n",
    "        vif_info (pandas.core.frame.DataFrame): _description_\n",
    "    \"\"\"\n",
    "    \n",
    "    if omited_fields != None:\n",
    "        dataframe.drop(omited_fields, axis = 1, inplace = True)\n",
    "        \n",
    "    vif_dict = {}\n",
    "    \n",
    "    vif_dict[\"VIF\"] = [variance_inflation_factor(dataframe.values, i) for i in range(dataframe.shape[1])]\n",
    "    vif_df = ((pd.DataFrame(vif_dict, index = dataframe.columns)).sort_values(by = \"VIF\").T)\n",
    "    \n",
    "    return vif_df"
   ]
  },
  {
   "cell_type": "code",
   "execution_count": 107,
   "metadata": {},
   "outputs": [],
   "source": [
    "def f_train_dev_split(dataframe, target_field):\n",
    "    \"\"\"\n",
    "    This function gets a dataframe and split it into two train and development dataframes.\n",
    "\n",
    "    Args:\n",
    "        dataframe (pandas.core.frame.DataFrame): The main dataframe\n",
    "        target_field (sring): The field we want to create the linear regression model based on that\n",
    "\n",
    "    Returns:\n",
    "        x_train, x_develop, y_train, y_develop (pandas.core.frame.DataFrame): Anything we want for modeling\n",
    "    \"\"\"\n",
    "    \n",
    "    x = dataframe.drop([target_field], axis = 1)\n",
    "    y = dataframe[target_field]\n",
    "    \n",
    "    x_train, x_develop, y_train, y_develop = train_test_split(x, y, test_size = 0.20, random_state = 3)\n",
    "\n",
    "    print(f\"Train (x) dataset shape is:      {x_train.shape}\")\n",
    "    print(f\"Train (y) dataset shape is:      {y_train.shape}\")\n",
    "\n",
    "    print(f\"Dev (x) dataset shape is:       {x_develop.shape}\")\n",
    "    print(f\"Dev (y) dataset shape is:       {y_develop.shape}\")\n",
    "    \n",
    "    return x_train, x_develop, y_train, y_develop"
   ]
  },
  {
   "cell_type": "code",
   "execution_count": 108,
   "metadata": {},
   "outputs": [],
   "source": [
    "def f_linear_regression(train , dev):\n",
    "    \"\"\"\n",
    "    This function has been defined to model a linear regression and show R squared value of train and development datasets.\n",
    "\n",
    "    Args:\n",
    "        train (list): A list of both x and y dataframes for training the model\n",
    "        dev (list): A list of both x and y dataframes for checking the model\n",
    "\n",
    "    Returns:\n",
    "        results (pandas.core.frame.DataFrame): R squared value of the model of both train and dev datasets\n",
    "    \"\"\"\n",
    "    \n",
    "    model = LinearRegression()\n",
    "    model.fit(train[0], train[1])\n",
    "    \n",
    "    results = pd.DataFrame(columns = [\"Train\", \"Dev\"], index = [\"R Squared\"])\n",
    "    results[\"Train\"] = [model.score(train[0], train[1])]\n",
    "    results[\"Dev\"] = [model.score(dev[0], dev[1])]\n",
    "    \n",
    "    fields = list((train[0]).columns)\n",
    "    coefficients = list(model.coef_)\n",
    "    coefficients_dict = {fields[i]: coefficients[i] for i in range(len(fields))}\n",
    "    sorted_coefficients_dict = sorted(coefficients_dict.items(), key = lambda x : x[1])\n",
    "    \n",
    "    intercept = model.intercept_\n",
    "    \n",
    "    print(f\"Coefficients values:\")\n",
    "    \n",
    "    for i in range(len(fields)):\n",
    "        print(f\"    * {sorted_coefficients_dict[i][0]} : {round((sorted_coefficients_dict[i][1]), 2)}\")\n",
    "    \n",
    "    print(f\"\\nInetrcept: {model.intercept_}\\n\")\n",
    "    \n",
    "    return results"
   ]
  },
  {
   "cell_type": "markdown",
   "metadata": {},
   "source": [
    "[Project Content](#0)"
   ]
  },
  {
   "cell_type": "markdown",
   "metadata": {},
   "source": [
    "## 3. Loading and Checking The Dataset <a id = 3></a>"
   ]
  },
  {
   "cell_type": "markdown",
   "metadata": {},
   "source": [
    "### Loading The Dataset"
   ]
  },
  {
   "cell_type": "code",
   "execution_count": 109,
   "metadata": {},
   "outputs": [],
   "source": [
    "df = pd.read_csv(\"Car-Dataset.csv\")"
   ]
  },
  {
   "cell_type": "markdown",
   "metadata": {},
   "source": [
    "### Checking The Dataset"
   ]
  },
  {
   "cell_type": "code",
   "execution_count": 110,
   "metadata": {},
   "outputs": [
    {
     "data": {
      "text/html": [
       "<div>\n",
       "<style scoped>\n",
       "    .dataframe tbody tr th:only-of-type {\n",
       "        vertical-align: middle;\n",
       "    }\n",
       "\n",
       "    .dataframe tbody tr th {\n",
       "        vertical-align: top;\n",
       "    }\n",
       "\n",
       "    .dataframe thead th {\n",
       "        text-align: right;\n",
       "    }\n",
       "</style>\n",
       "<table border=\"1\" class=\"dataframe\">\n",
       "  <thead>\n",
       "    <tr style=\"text-align: right;\">\n",
       "      <th></th>\n",
       "      <th>Car_Name</th>\n",
       "      <th>Year</th>\n",
       "      <th>Selling_Price</th>\n",
       "      <th>Present_Price</th>\n",
       "      <th>Kms_Driven</th>\n",
       "      <th>Fuel_Type</th>\n",
       "      <th>Seller_Type</th>\n",
       "      <th>Transmission</th>\n",
       "      <th>Owner</th>\n",
       "    </tr>\n",
       "  </thead>\n",
       "  <tbody>\n",
       "    <tr>\n",
       "      <th>0</th>\n",
       "      <td>ritz</td>\n",
       "      <td>2014</td>\n",
       "      <td>3.35</td>\n",
       "      <td>5.59</td>\n",
       "      <td>27000</td>\n",
       "      <td>Petrol</td>\n",
       "      <td>Dealer</td>\n",
       "      <td>Manual</td>\n",
       "      <td>0</td>\n",
       "    </tr>\n",
       "    <tr>\n",
       "      <th>1</th>\n",
       "      <td>sx4</td>\n",
       "      <td>2013</td>\n",
       "      <td>4.75</td>\n",
       "      <td>9.54</td>\n",
       "      <td>43000</td>\n",
       "      <td>Diesel</td>\n",
       "      <td>Dealer</td>\n",
       "      <td>Manual</td>\n",
       "      <td>0</td>\n",
       "    </tr>\n",
       "    <tr>\n",
       "      <th>2</th>\n",
       "      <td>ciaz</td>\n",
       "      <td>2017</td>\n",
       "      <td>7.25</td>\n",
       "      <td>9.85</td>\n",
       "      <td>6900</td>\n",
       "      <td>Petrol</td>\n",
       "      <td>Dealer</td>\n",
       "      <td>Manual</td>\n",
       "      <td>0</td>\n",
       "    </tr>\n",
       "    <tr>\n",
       "      <th>3</th>\n",
       "      <td>wagon r</td>\n",
       "      <td>2011</td>\n",
       "      <td>2.85</td>\n",
       "      <td>4.15</td>\n",
       "      <td>5200</td>\n",
       "      <td>Petrol</td>\n",
       "      <td>Dealer</td>\n",
       "      <td>Manual</td>\n",
       "      <td>0</td>\n",
       "    </tr>\n",
       "    <tr>\n",
       "      <th>4</th>\n",
       "      <td>swift</td>\n",
       "      <td>2014</td>\n",
       "      <td>4.60</td>\n",
       "      <td>6.87</td>\n",
       "      <td>42450</td>\n",
       "      <td>Diesel</td>\n",
       "      <td>Dealer</td>\n",
       "      <td>Manual</td>\n",
       "      <td>0</td>\n",
       "    </tr>\n",
       "  </tbody>\n",
       "</table>\n",
       "</div>"
      ],
      "text/plain": [
       "  Car_Name  Year  Selling_Price  Present_Price  Kms_Driven Fuel_Type  \\\n",
       "0     ritz  2014           3.35           5.59       27000    Petrol   \n",
       "1      sx4  2013           4.75           9.54       43000    Diesel   \n",
       "2     ciaz  2017           7.25           9.85        6900    Petrol   \n",
       "3  wagon r  2011           2.85           4.15        5200    Petrol   \n",
       "4    swift  2014           4.60           6.87       42450    Diesel   \n",
       "\n",
       "  Seller_Type Transmission  Owner  \n",
       "0      Dealer       Manual      0  \n",
       "1      Dealer       Manual      0  \n",
       "2      Dealer       Manual      0  \n",
       "3      Dealer       Manual      0  \n",
       "4      Dealer       Manual      0  "
      ]
     },
     "execution_count": 110,
     "metadata": {},
     "output_type": "execute_result"
    }
   ],
   "source": [
    "df.head(5)"
   ]
  },
  {
   "cell_type": "markdown",
   "metadata": {},
   "source": [
    "### Examining Missing Values"
   ]
  },
  {
   "cell_type": "code",
   "execution_count": 111,
   "metadata": {},
   "outputs": [
    {
     "name": "stdout",
     "output_type": "stream",
     "text": [
      "<class 'pandas.core.frame.DataFrame'>\n",
      "RangeIndex: 301 entries, 0 to 300\n",
      "Data columns (total 9 columns):\n",
      " #   Column         Non-Null Count  Dtype  \n",
      "---  ------         --------------  -----  \n",
      " 0   Car_Name       301 non-null    object \n",
      " 1   Year           301 non-null    int64  \n",
      " 2   Selling_Price  301 non-null    float64\n",
      " 3   Present_Price  301 non-null    float64\n",
      " 4   Kms_Driven     301 non-null    int64  \n",
      " 5   Fuel_Type      301 non-null    object \n",
      " 6   Seller_Type    301 non-null    object \n",
      " 7   Transmission   301 non-null    object \n",
      " 8   Owner          301 non-null    int64  \n",
      "dtypes: float64(2), int64(3), object(4)\n",
      "memory usage: 21.3+ KB\n"
     ]
    }
   ],
   "source": [
    "df.info()"
   ]
  },
  {
   "attachments": {},
   "cell_type": "markdown",
   "metadata": {},
   "source": [
    "Fortunately there are no null values in fields and we don't mind fixing this issue."
   ]
  },
  {
   "attachments": {},
   "cell_type": "markdown",
   "metadata": {},
   "source": [
    "### Examining Number of Unique Values"
   ]
  },
  {
   "cell_type": "code",
   "execution_count": 112,
   "metadata": {},
   "outputs": [
    {
     "data": {
      "text/html": [
       "<div>\n",
       "<style scoped>\n",
       "    .dataframe tbody tr th:only-of-type {\n",
       "        vertical-align: middle;\n",
       "    }\n",
       "\n",
       "    .dataframe tbody tr th {\n",
       "        vertical-align: top;\n",
       "    }\n",
       "\n",
       "    .dataframe thead th {\n",
       "        text-align: right;\n",
       "    }\n",
       "</style>\n",
       "<table border=\"1\" class=\"dataframe\">\n",
       "  <thead>\n",
       "    <tr style=\"text-align: right;\">\n",
       "      <th></th>\n",
       "      <th>Field_Name</th>\n",
       "      <th>Unique_Values_Num</th>\n",
       "    </tr>\n",
       "  </thead>\n",
       "  <tbody>\n",
       "    <tr>\n",
       "      <th>0</th>\n",
       "      <td>Car_Name</td>\n",
       "      <td>98</td>\n",
       "    </tr>\n",
       "    <tr>\n",
       "      <th>1</th>\n",
       "      <td>Year</td>\n",
       "      <td>16</td>\n",
       "    </tr>\n",
       "    <tr>\n",
       "      <th>2</th>\n",
       "      <td>Selling_Price</td>\n",
       "      <td>156</td>\n",
       "    </tr>\n",
       "    <tr>\n",
       "      <th>3</th>\n",
       "      <td>Present_Price</td>\n",
       "      <td>147</td>\n",
       "    </tr>\n",
       "    <tr>\n",
       "      <th>4</th>\n",
       "      <td>Kms_Driven</td>\n",
       "      <td>206</td>\n",
       "    </tr>\n",
       "    <tr>\n",
       "      <th>5</th>\n",
       "      <td>Fuel_Type</td>\n",
       "      <td>3</td>\n",
       "    </tr>\n",
       "    <tr>\n",
       "      <th>6</th>\n",
       "      <td>Seller_Type</td>\n",
       "      <td>2</td>\n",
       "    </tr>\n",
       "    <tr>\n",
       "      <th>7</th>\n",
       "      <td>Transmission</td>\n",
       "      <td>2</td>\n",
       "    </tr>\n",
       "    <tr>\n",
       "      <th>8</th>\n",
       "      <td>Owner</td>\n",
       "      <td>3</td>\n",
       "    </tr>\n",
       "  </tbody>\n",
       "</table>\n",
       "</div>"
      ],
      "text/plain": [
       "      Field_Name  Unique_Values_Num\n",
       "0       Car_Name                 98\n",
       "1           Year                 16\n",
       "2  Selling_Price                156\n",
       "3  Present_Price                147\n",
       "4     Kms_Driven                206\n",
       "5      Fuel_Type                  3\n",
       "6    Seller_Type                  2\n",
       "7   Transmission                  2\n",
       "8          Owner                  3"
      ]
     },
     "execution_count": 112,
     "metadata": {},
     "output_type": "execute_result"
    }
   ],
   "source": [
    "f_num_unique_values(df)"
   ]
  },
  {
   "attachments": {},
   "cell_type": "markdown",
   "metadata": {},
   "source": [
    "We can consider four last fields (Fuel_Type, Seller_Type, Transmission and Owner) categorical.\n",
    "\n",
    "Cars' names field won't be helpful cause its values are so diverse, so we can omit that."
   ]
  },
  {
   "cell_type": "code",
   "execution_count": 113,
   "metadata": {},
   "outputs": [
    {
     "data": {
      "text/html": [
       "<div>\n",
       "<style scoped>\n",
       "    .dataframe tbody tr th:only-of-type {\n",
       "        vertical-align: middle;\n",
       "    }\n",
       "\n",
       "    .dataframe tbody tr th {\n",
       "        vertical-align: top;\n",
       "    }\n",
       "\n",
       "    .dataframe thead th {\n",
       "        text-align: right;\n",
       "    }\n",
       "</style>\n",
       "<table border=\"1\" class=\"dataframe\">\n",
       "  <thead>\n",
       "    <tr style=\"text-align: right;\">\n",
       "      <th></th>\n",
       "      <th>Year</th>\n",
       "      <th>Selling_Price</th>\n",
       "      <th>Present_Price</th>\n",
       "      <th>Kms_Driven</th>\n",
       "      <th>Fuel_Type</th>\n",
       "      <th>Seller_Type</th>\n",
       "      <th>Transmission</th>\n",
       "      <th>Owner</th>\n",
       "    </tr>\n",
       "  </thead>\n",
       "  <tbody>\n",
       "    <tr>\n",
       "      <th>0</th>\n",
       "      <td>2014</td>\n",
       "      <td>3.35</td>\n",
       "      <td>5.59</td>\n",
       "      <td>27000</td>\n",
       "      <td>Petrol</td>\n",
       "      <td>Dealer</td>\n",
       "      <td>Manual</td>\n",
       "      <td>0</td>\n",
       "    </tr>\n",
       "    <tr>\n",
       "      <th>1</th>\n",
       "      <td>2013</td>\n",
       "      <td>4.75</td>\n",
       "      <td>9.54</td>\n",
       "      <td>43000</td>\n",
       "      <td>Diesel</td>\n",
       "      <td>Dealer</td>\n",
       "      <td>Manual</td>\n",
       "      <td>0</td>\n",
       "    </tr>\n",
       "    <tr>\n",
       "      <th>2</th>\n",
       "      <td>2017</td>\n",
       "      <td>7.25</td>\n",
       "      <td>9.85</td>\n",
       "      <td>6900</td>\n",
       "      <td>Petrol</td>\n",
       "      <td>Dealer</td>\n",
       "      <td>Manual</td>\n",
       "      <td>0</td>\n",
       "    </tr>\n",
       "    <tr>\n",
       "      <th>3</th>\n",
       "      <td>2011</td>\n",
       "      <td>2.85</td>\n",
       "      <td>4.15</td>\n",
       "      <td>5200</td>\n",
       "      <td>Petrol</td>\n",
       "      <td>Dealer</td>\n",
       "      <td>Manual</td>\n",
       "      <td>0</td>\n",
       "    </tr>\n",
       "    <tr>\n",
       "      <th>4</th>\n",
       "      <td>2014</td>\n",
       "      <td>4.60</td>\n",
       "      <td>6.87</td>\n",
       "      <td>42450</td>\n",
       "      <td>Diesel</td>\n",
       "      <td>Dealer</td>\n",
       "      <td>Manual</td>\n",
       "      <td>0</td>\n",
       "    </tr>\n",
       "  </tbody>\n",
       "</table>\n",
       "</div>"
      ],
      "text/plain": [
       "   Year  Selling_Price  Present_Price  Kms_Driven Fuel_Type Seller_Type  \\\n",
       "0  2014           3.35           5.59       27000    Petrol      Dealer   \n",
       "1  2013           4.75           9.54       43000    Diesel      Dealer   \n",
       "2  2017           7.25           9.85        6900    Petrol      Dealer   \n",
       "3  2011           2.85           4.15        5200    Petrol      Dealer   \n",
       "4  2014           4.60           6.87       42450    Diesel      Dealer   \n",
       "\n",
       "  Transmission  Owner  \n",
       "0       Manual      0  \n",
       "1       Manual      0  \n",
       "2       Manual      0  \n",
       "3       Manual      0  \n",
       "4       Manual      0  "
      ]
     },
     "execution_count": 113,
     "metadata": {},
     "output_type": "execute_result"
    }
   ],
   "source": [
    "del df[\"Car_Name\"]\n",
    "\n",
    "df.head(5)"
   ]
  },
  {
   "attachments": {},
   "cell_type": "markdown",
   "metadata": {},
   "source": [
    "### Separating Fields to Numerical and Categorical"
   ]
  },
  {
   "cell_type": "code",
   "execution_count": 114,
   "metadata": {},
   "outputs": [
    {
     "name": "stdout",
     "output_type": "stream",
     "text": [
      "Categorical fields are:       ['Fuel_Type', 'Seller_Type', 'Transmission', 'Owner']\n",
      "Numerical fields are:         ['Year', 'Selling_Price', 'Present_Price', 'Kms_Driven']\n"
     ]
    }
   ],
   "source": [
    "fields_list = list(df.columns)\n",
    "cat_f = [\"Fuel_Type\", \"Seller_Type\", \"Transmission\", \"Owner\"]\n",
    "num_f = fields_list\n",
    "\n",
    "for column in cat_f:\n",
    "    num_f.remove(column)\n",
    "\n",
    "print(\"Categorical fields are:      \", cat_f)\n",
    "print(\"Numerical fields are:        \", num_f)"
   ]
  },
  {
   "cell_type": "markdown",
   "metadata": {},
   "source": [
    "[Project Content](#0)"
   ]
  },
  {
   "cell_type": "markdown",
   "metadata": {},
   "source": [
    "## 4. Exploratory Data Analysis <a id = 4></a>"
   ]
  },
  {
   "cell_type": "markdown",
   "metadata": {},
   "source": [
    "### Examining Statistics of Numeric Fields"
   ]
  },
  {
   "cell_type": "markdown",
   "metadata": {},
   "source": [
    "Here we want to check how fields are distributed. Firstly we can check this table that has a lot of useful information."
   ]
  },
  {
   "cell_type": "code",
   "execution_count": 115,
   "metadata": {},
   "outputs": [
    {
     "data": {
      "text/html": [
       "<div>\n",
       "<style scoped>\n",
       "    .dataframe tbody tr th:only-of-type {\n",
       "        vertical-align: middle;\n",
       "    }\n",
       "\n",
       "    .dataframe tbody tr th {\n",
       "        vertical-align: top;\n",
       "    }\n",
       "\n",
       "    .dataframe thead th {\n",
       "        text-align: right;\n",
       "    }\n",
       "</style>\n",
       "<table border=\"1\" class=\"dataframe\">\n",
       "  <thead>\n",
       "    <tr style=\"text-align: right;\">\n",
       "      <th></th>\n",
       "      <th>Year</th>\n",
       "      <th>Selling_Price</th>\n",
       "      <th>Present_Price</th>\n",
       "      <th>Kms_Driven</th>\n",
       "    </tr>\n",
       "  </thead>\n",
       "  <tbody>\n",
       "    <tr>\n",
       "      <th>count</th>\n",
       "      <td>301.000000</td>\n",
       "      <td>301.000000</td>\n",
       "      <td>301.000000</td>\n",
       "      <td>301.000000</td>\n",
       "    </tr>\n",
       "    <tr>\n",
       "      <th>mean</th>\n",
       "      <td>2013.627907</td>\n",
       "      <td>4.661296</td>\n",
       "      <td>7.628472</td>\n",
       "      <td>36947.205980</td>\n",
       "    </tr>\n",
       "    <tr>\n",
       "      <th>std</th>\n",
       "      <td>2.891554</td>\n",
       "      <td>5.082812</td>\n",
       "      <td>8.644115</td>\n",
       "      <td>38886.883882</td>\n",
       "    </tr>\n",
       "    <tr>\n",
       "      <th>min</th>\n",
       "      <td>2003.000000</td>\n",
       "      <td>0.100000</td>\n",
       "      <td>0.320000</td>\n",
       "      <td>500.000000</td>\n",
       "    </tr>\n",
       "    <tr>\n",
       "      <th>25%</th>\n",
       "      <td>2012.000000</td>\n",
       "      <td>0.900000</td>\n",
       "      <td>1.200000</td>\n",
       "      <td>15000.000000</td>\n",
       "    </tr>\n",
       "    <tr>\n",
       "      <th>50%</th>\n",
       "      <td>2014.000000</td>\n",
       "      <td>3.600000</td>\n",
       "      <td>6.400000</td>\n",
       "      <td>32000.000000</td>\n",
       "    </tr>\n",
       "    <tr>\n",
       "      <th>75%</th>\n",
       "      <td>2016.000000</td>\n",
       "      <td>6.000000</td>\n",
       "      <td>9.900000</td>\n",
       "      <td>48767.000000</td>\n",
       "    </tr>\n",
       "    <tr>\n",
       "      <th>max</th>\n",
       "      <td>2018.000000</td>\n",
       "      <td>35.000000</td>\n",
       "      <td>92.600000</td>\n",
       "      <td>500000.000000</td>\n",
       "    </tr>\n",
       "  </tbody>\n",
       "</table>\n",
       "</div>"
      ],
      "text/plain": [
       "              Year  Selling_Price  Present_Price     Kms_Driven\n",
       "count   301.000000     301.000000     301.000000     301.000000\n",
       "mean   2013.627907       4.661296       7.628472   36947.205980\n",
       "std       2.891554       5.082812       8.644115   38886.883882\n",
       "min    2003.000000       0.100000       0.320000     500.000000\n",
       "25%    2012.000000       0.900000       1.200000   15000.000000\n",
       "50%    2014.000000       3.600000       6.400000   32000.000000\n",
       "75%    2016.000000       6.000000       9.900000   48767.000000\n",
       "max    2018.000000      35.000000      92.600000  500000.000000"
      ]
     },
     "execution_count": 115,
     "metadata": {},
     "output_type": "execute_result"
    }
   ],
   "source": [
    "df[num_f].describe()"
   ]
  },
  {
   "cell_type": "code",
   "execution_count": 116,
   "metadata": {},
   "outputs": [
    {
     "data": {
      "image/png": "[encoded data removed]",
      "text/plain": [
       "<Figure size 3000x1500 with 4 Axes>"
      ]
     },
     "metadata": {},
     "output_type": "display_data"
    }
   ],
   "source": [
    "title_font = {\"family\" : \"arial\", \"color\" : \"k\", \"weight\" : \"bold\", \"size\" : 14}\n",
    "axes_font = {\"family\" : \"arial\", \"color\" : \"darkgreen\", \"weight\" : \"bold\", \"size\" : 12}\n",
    "\n",
    "figure, axis = plt.subplots(2, 2, figsize = (30, 15))\n",
    "\n",
    "i = 0\n",
    "j = 0\n",
    "\n",
    "for field in num_f:\n",
    "    \n",
    "    sns.distplot(df[field], kde = True, bins = \"auto\", color = \"gray\", hist_kws = dict(linewidth = 1, edgecolor = \"k\"), ax = axis[i, j])\n",
    "    axis[i, j].axvline(df[field].mean(), color = \"r\", ls = \"--\", lw = 2)\n",
    "                \n",
    "    axis[i, j].set_title(field, fontdict = title_font)\n",
    "    axis[i, j].set_xlabel(field, fontdict = axes_font)\n",
    "    axis[i, j].set_ylabel(\"Density\", fontdict = axes_font)\n",
    "    axis[i, j].annotate(f\"Statistics = {round(shapiro(df[field])[0], 4)}\\nP-Value = {round(shapiro(df[field])[1], 4)}\",\n",
    "               xy = (0.8, 0.8), xycoords = \"axes fraction\", fontsize = 10, horizontalalignment = \"left\", verticalalignment = \"bottom\")\n",
    "    \n",
    "    if ((j + 1) % 2) != 0:\n",
    "        j += 1\n",
    "    \n",
    "    else:\n",
    "        j = 0\n",
    "        i += 1\n",
    "  \n",
    "plt.show()"
   ]
  },
  {
   "attachments": {},
   "cell_type": "markdown",
   "metadata": {},
   "source": [
    "Checking the plots above can be helpful in understanding fields' data approximate distributions. Are they close to normal distributions? Let's check this out!\n",
    "\n",
    "Using shapiro test can shows us that fields above cannot be considered to have a normal distribution. However we can overlook this issue as we want to use regression model later."
   ]
  },
  {
   "cell_type": "markdown",
   "metadata": {},
   "source": [
    "### Examining Statistics of Categorical Fields"
   ]
  },
  {
   "cell_type": "code",
   "execution_count": 117,
   "metadata": {},
   "outputs": [
    {
     "data": {
      "text/html": [
       "<div>\n",
       "<style scoped>\n",
       "    .dataframe tbody tr th:only-of-type {\n",
       "        vertical-align: middle;\n",
       "    }\n",
       "\n",
       "    .dataframe tbody tr th {\n",
       "        vertical-align: top;\n",
       "    }\n",
       "\n",
       "    .dataframe thead th {\n",
       "        text-align: right;\n",
       "    }\n",
       "</style>\n",
       "<table border=\"1\" class=\"dataframe\">\n",
       "  <thead>\n",
       "    <tr style=\"text-align: right;\">\n",
       "      <th></th>\n",
       "      <th>Field_Name</th>\n",
       "      <th>Unique_Values</th>\n",
       "    </tr>\n",
       "  </thead>\n",
       "  <tbody>\n",
       "    <tr>\n",
       "      <th>0</th>\n",
       "      <td>Fuel_Type</td>\n",
       "      <td>Petrol | Diesel | CNG</td>\n",
       "    </tr>\n",
       "    <tr>\n",
       "      <th>1</th>\n",
       "      <td>Seller_Type</td>\n",
       "      <td>Dealer | Individual</td>\n",
       "    </tr>\n",
       "    <tr>\n",
       "      <th>2</th>\n",
       "      <td>Transmission</td>\n",
       "      <td>Manual | Automatic</td>\n",
       "    </tr>\n",
       "    <tr>\n",
       "      <th>3</th>\n",
       "      <td>Owner</td>\n",
       "      <td>0 | 1 | 3</td>\n",
       "    </tr>\n",
       "  </tbody>\n",
       "</table>\n",
       "</div>"
      ],
      "text/plain": [
       "     Field_Name          Unique_Values\n",
       "0     Fuel_Type  Petrol | Diesel | CNG\n",
       "1   Seller_Type    Dealer | Individual\n",
       "2  Transmission     Manual | Automatic\n",
       "3         Owner              0 | 1 | 3"
      ]
     },
     "execution_count": 117,
     "metadata": {},
     "output_type": "execute_result"
    }
   ],
   "source": [
    "f_unique_values(df, cat_f)"
   ]
  },
  {
   "attachments": {},
   "cell_type": "markdown",
   "metadata": {},
   "source": [
    "Using the function defined before isn't enough for us. We want to know more about the proportion of each kind of unique values in categorical fields.\n",
    "\n",
    "Pie plot can be helpful to understand more about values and their proportion in each field."
   ]
  },
  {
   "cell_type": "code",
   "execution_count": 118,
   "metadata": {},
   "outputs": [
    {
     "data": {
      "image/png": "[encoded data removed]",
      "text/plain": [
       "<Figure size 3000x4000 with 4 Axes>"
      ]
     },
     "metadata": {},
     "output_type": "display_data"
    }
   ],
   "source": [
    "title_font = {\"family\" : \"arial\", \"color\" : \"k\", \"weight\" : \"bold\", \"size\" : 14}\n",
    "text_font = {\"family\" : \"arial\", \"color\" : \"k\", \"size\" : 10}\n",
    "\n",
    "colors = [\"#4D455D\", \"#E96479\", \"#865DFF\"]\n",
    "explode = (0.1,)\n",
    "\n",
    "figure, axis = plt.subplots(1, 4, figsize = (30, 40))\n",
    "\n",
    "for field in cat_f:\n",
    "    \n",
    "    field_unique_values_list = list(df[field].unique())\n",
    "    i = cat_f.index(field)\n",
    "    \n",
    "    axis[i].pie((np.array(df[field].value_counts())),\n",
    "                labeldistance = 100, startangle = 110, colors = colors, shadow = True,\n",
    "                explode = explode * len(np.array(df[field].value_counts())))\n",
    "    \n",
    "    axis[i].set_title(field, fontdict = title_font)\n",
    "    axis[i].legend(field_unique_values_list, loc = \"upper right\", frameon = False)\n",
    "  \n",
    "plt.show()"
   ]
  },
  {
   "cell_type": "markdown",
   "metadata": {},
   "source": [
    "[Project Content](#0)"
   ]
  },
  {
   "attachments": {},
   "cell_type": "markdown",
   "metadata": {},
   "source": [
    "## 5. Adding an Integer Field for Each Categorical Field <a id = 5></a> "
   ]
  },
  {
   "cell_type": "code",
   "execution_count": 119,
   "metadata": {},
   "outputs": [
    {
     "data": {
      "text/html": [
       "<div>\n",
       "<style scoped>\n",
       "    .dataframe tbody tr th:only-of-type {\n",
       "        vertical-align: middle;\n",
       "    }\n",
       "\n",
       "    .dataframe tbody tr th {\n",
       "        vertical-align: top;\n",
       "    }\n",
       "\n",
       "    .dataframe thead th {\n",
       "        text-align: right;\n",
       "    }\n",
       "</style>\n",
       "<table border=\"1\" class=\"dataframe\">\n",
       "  <thead>\n",
       "    <tr style=\"text-align: right;\">\n",
       "      <th></th>\n",
       "      <th>Year</th>\n",
       "      <th>Selling_Price</th>\n",
       "      <th>Present_Price</th>\n",
       "      <th>Kms_Driven</th>\n",
       "      <th>Fuel_Type</th>\n",
       "      <th>Seller_Type</th>\n",
       "      <th>Transmission</th>\n",
       "      <th>Owner</th>\n",
       "      <th>Fuel_Type_int</th>\n",
       "      <th>Seller_Type_int</th>\n",
       "      <th>Transmission_int</th>\n",
       "    </tr>\n",
       "  </thead>\n",
       "  <tbody>\n",
       "    <tr>\n",
       "      <th>0</th>\n",
       "      <td>2014</td>\n",
       "      <td>3.35</td>\n",
       "      <td>5.59</td>\n",
       "      <td>27000</td>\n",
       "      <td>Petrol</td>\n",
       "      <td>Dealer</td>\n",
       "      <td>Manual</td>\n",
       "      <td>0</td>\n",
       "      <td>0</td>\n",
       "      <td>0</td>\n",
       "      <td>0</td>\n",
       "    </tr>\n",
       "    <tr>\n",
       "      <th>1</th>\n",
       "      <td>2013</td>\n",
       "      <td>4.75</td>\n",
       "      <td>9.54</td>\n",
       "      <td>43000</td>\n",
       "      <td>Diesel</td>\n",
       "      <td>Dealer</td>\n",
       "      <td>Manual</td>\n",
       "      <td>0</td>\n",
       "      <td>1</td>\n",
       "      <td>0</td>\n",
       "      <td>0</td>\n",
       "    </tr>\n",
       "    <tr>\n",
       "      <th>2</th>\n",
       "      <td>2017</td>\n",
       "      <td>7.25</td>\n",
       "      <td>9.85</td>\n",
       "      <td>6900</td>\n",
       "      <td>Petrol</td>\n",
       "      <td>Dealer</td>\n",
       "      <td>Manual</td>\n",
       "      <td>0</td>\n",
       "      <td>0</td>\n",
       "      <td>0</td>\n",
       "      <td>0</td>\n",
       "    </tr>\n",
       "    <tr>\n",
       "      <th>3</th>\n",
       "      <td>2011</td>\n",
       "      <td>2.85</td>\n",
       "      <td>4.15</td>\n",
       "      <td>5200</td>\n",
       "      <td>Petrol</td>\n",
       "      <td>Dealer</td>\n",
       "      <td>Manual</td>\n",
       "      <td>0</td>\n",
       "      <td>0</td>\n",
       "      <td>0</td>\n",
       "      <td>0</td>\n",
       "    </tr>\n",
       "    <tr>\n",
       "      <th>4</th>\n",
       "      <td>2014</td>\n",
       "      <td>4.60</td>\n",
       "      <td>6.87</td>\n",
       "      <td>42450</td>\n",
       "      <td>Diesel</td>\n",
       "      <td>Dealer</td>\n",
       "      <td>Manual</td>\n",
       "      <td>0</td>\n",
       "      <td>1</td>\n",
       "      <td>0</td>\n",
       "      <td>0</td>\n",
       "    </tr>\n",
       "    <tr>\n",
       "      <th>...</th>\n",
       "      <td>...</td>\n",
       "      <td>...</td>\n",
       "      <td>...</td>\n",
       "      <td>...</td>\n",
       "      <td>...</td>\n",
       "      <td>...</td>\n",
       "      <td>...</td>\n",
       "      <td>...</td>\n",
       "      <td>...</td>\n",
       "      <td>...</td>\n",
       "      <td>...</td>\n",
       "    </tr>\n",
       "    <tr>\n",
       "      <th>296</th>\n",
       "      <td>2016</td>\n",
       "      <td>9.50</td>\n",
       "      <td>11.60</td>\n",
       "      <td>33988</td>\n",
       "      <td>Diesel</td>\n",
       "      <td>Dealer</td>\n",
       "      <td>Manual</td>\n",
       "      <td>0</td>\n",
       "      <td>1</td>\n",
       "      <td>0</td>\n",
       "      <td>0</td>\n",
       "    </tr>\n",
       "    <tr>\n",
       "      <th>297</th>\n",
       "      <td>2015</td>\n",
       "      <td>4.00</td>\n",
       "      <td>5.90</td>\n",
       "      <td>60000</td>\n",
       "      <td>Petrol</td>\n",
       "      <td>Dealer</td>\n",
       "      <td>Manual</td>\n",
       "      <td>0</td>\n",
       "      <td>0</td>\n",
       "      <td>0</td>\n",
       "      <td>0</td>\n",
       "    </tr>\n",
       "    <tr>\n",
       "      <th>298</th>\n",
       "      <td>2009</td>\n",
       "      <td>3.35</td>\n",
       "      <td>11.00</td>\n",
       "      <td>87934</td>\n",
       "      <td>Petrol</td>\n",
       "      <td>Dealer</td>\n",
       "      <td>Manual</td>\n",
       "      <td>0</td>\n",
       "      <td>0</td>\n",
       "      <td>0</td>\n",
       "      <td>0</td>\n",
       "    </tr>\n",
       "    <tr>\n",
       "      <th>299</th>\n",
       "      <td>2017</td>\n",
       "      <td>11.50</td>\n",
       "      <td>12.50</td>\n",
       "      <td>9000</td>\n",
       "      <td>Diesel</td>\n",
       "      <td>Dealer</td>\n",
       "      <td>Manual</td>\n",
       "      <td>0</td>\n",
       "      <td>1</td>\n",
       "      <td>0</td>\n",
       "      <td>0</td>\n",
       "    </tr>\n",
       "    <tr>\n",
       "      <th>300</th>\n",
       "      <td>2016</td>\n",
       "      <td>5.30</td>\n",
       "      <td>5.90</td>\n",
       "      <td>5464</td>\n",
       "      <td>Petrol</td>\n",
       "      <td>Dealer</td>\n",
       "      <td>Manual</td>\n",
       "      <td>0</td>\n",
       "      <td>0</td>\n",
       "      <td>0</td>\n",
       "      <td>0</td>\n",
       "    </tr>\n",
       "  </tbody>\n",
       "</table>\n",
       "<p>301 rows × 11 columns</p>\n",
       "</div>"
      ],
      "text/plain": [
       "     Year  Selling_Price  Present_Price  Kms_Driven Fuel_Type Seller_Type  \\\n",
       "0    2014           3.35           5.59       27000    Petrol      Dealer   \n",
       "1    2013           4.75           9.54       43000    Diesel      Dealer   \n",
       "2    2017           7.25           9.85        6900    Petrol      Dealer   \n",
       "3    2011           2.85           4.15        5200    Petrol      Dealer   \n",
       "4    2014           4.60           6.87       42450    Diesel      Dealer   \n",
       "..    ...            ...            ...         ...       ...         ...   \n",
       "296  2016           9.50          11.60       33988    Diesel      Dealer   \n",
       "297  2015           4.00           5.90       60000    Petrol      Dealer   \n",
       "298  2009           3.35          11.00       87934    Petrol      Dealer   \n",
       "299  2017          11.50          12.50        9000    Diesel      Dealer   \n",
       "300  2016           5.30           5.90        5464    Petrol      Dealer   \n",
       "\n",
       "    Transmission  Owner  Fuel_Type_int  Seller_Type_int  Transmission_int  \n",
       "0         Manual      0              0                0                 0  \n",
       "1         Manual      0              1                0                 0  \n",
       "2         Manual      0              0                0                 0  \n",
       "3         Manual      0              0                0                 0  \n",
       "4         Manual      0              1                0                 0  \n",
       "..           ...    ...            ...              ...               ...  \n",
       "296       Manual      0              1                0                 0  \n",
       "297       Manual      0              0                0                 0  \n",
       "298       Manual      0              0                0                 0  \n",
       "299       Manual      0              1                0                 0  \n",
       "300       Manual      0              0                0                 0  \n",
       "\n",
       "[301 rows x 11 columns]"
      ]
     },
     "execution_count": 119,
     "metadata": {},
     "output_type": "execute_result"
    }
   ],
   "source": [
    "df = f_cat_to_int(df, fields = cat_f[:-1])\n",
    "\n",
    "df"
   ]
  },
  {
   "attachments": {},
   "cell_type": "markdown",
   "metadata": {},
   "source": [
    "Changing the categorical fields' data type to numerical can help us to find out the relation between fields and create regression models later.\n",
    "\n",
    "Before correlaytion analysis we want to check if function functions correctly :)"
   ]
  },
  {
   "cell_type": "code",
   "execution_count": 120,
   "metadata": {},
   "outputs": [
    {
     "name": "stdout",
     "output_type": "stream",
     "text": [
      "<class 'pandas.core.frame.DataFrame'>\n",
      "RangeIndex: 301 entries, 0 to 300\n",
      "Data columns (total 11 columns):\n",
      " #   Column            Non-Null Count  Dtype  \n",
      "---  ------            --------------  -----  \n",
      " 0   Year              301 non-null    int64  \n",
      " 1   Selling_Price     301 non-null    float64\n",
      " 2   Present_Price     301 non-null    float64\n",
      " 3   Kms_Driven        301 non-null    int64  \n",
      " 4   Fuel_Type         301 non-null    object \n",
      " 5   Seller_Type       301 non-null    object \n",
      " 6   Transmission      301 non-null    object \n",
      " 7   Owner             301 non-null    int64  \n",
      " 8   Fuel_Type_int     301 non-null    int64  \n",
      " 9   Seller_Type_int   301 non-null    int64  \n",
      " 10  Transmission_int  301 non-null    int64  \n",
      "dtypes: float64(2), int64(6), object(3)\n",
      "memory usage: 26.0+ KB\n"
     ]
    }
   ],
   "source": [
    "df.info()"
   ]
  },
  {
   "cell_type": "code",
   "execution_count": 121,
   "metadata": {},
   "outputs": [
    {
     "data": {
      "text/plain": [
       "['Fuel_Type_int', 'Seller_Type_int', 'Transmission_int', 'Owner']"
      ]
     },
     "execution_count": 121,
     "metadata": {},
     "output_type": "execute_result"
    }
   ],
   "source": [
    "cat_f_int = [i + \"_int\" for i in cat_f[:-1]] + [cat_f[-1]]\n",
    "\n",
    "cat_f_int"
   ]
  },
  {
   "attachments": {},
   "cell_type": "markdown",
   "metadata": {},
   "source": [
    "From now we mostly use integer alternative fields of categorical fields."
   ]
  },
  {
   "cell_type": "markdown",
   "metadata": {},
   "source": [
    "[Project Content](#0)"
   ]
  },
  {
   "attachments": {},
   "cell_type": "markdown",
   "id": "8203207b",
   "metadata": {
    "papermill": {
     "duration": 0.329495,
     "end_time": "2022-04-21T13:58:27.622505",
     "exception": false,
     "start_time": "2022-04-21T13:58:27.293010",
     "status": "completed"
    },
    "tags": []
   },
   "source": [
    "## 6. Correlation Analysis <a id = 6></a> "
   ]
  },
  {
   "cell_type": "markdown",
   "metadata": {},
   "source": [
    "### Analysis between Numeric Fields Among Themselves"
   ]
  },
  {
   "cell_type": "code",
   "execution_count": 122,
   "metadata": {},
   "outputs": [
    {
     "data": {
      "text/html": [
       "<div>\n",
       "<style scoped>\n",
       "    .dataframe tbody tr th:only-of-type {\n",
       "        vertical-align: middle;\n",
       "    }\n",
       "\n",
       "    .dataframe tbody tr th {\n",
       "        vertical-align: top;\n",
       "    }\n",
       "\n",
       "    .dataframe thead th {\n",
       "        text-align: right;\n",
       "    }\n",
       "</style>\n",
       "<table border=\"1\" class=\"dataframe\">\n",
       "  <thead>\n",
       "    <tr style=\"text-align: right;\">\n",
       "      <th></th>\n",
       "      <th>Fields</th>\n",
       "      <th>Correlation_Value</th>\n",
       "    </tr>\n",
       "  </thead>\n",
       "  <tbody>\n",
       "    <tr>\n",
       "      <th>1</th>\n",
       "      <td>Year, Kms_Driven</td>\n",
       "      <td>-0.524342</td>\n",
       "    </tr>\n",
       "    <tr>\n",
       "      <th>0</th>\n",
       "      <td>Year, Present_Price</td>\n",
       "      <td>-0.047584</td>\n",
       "    </tr>\n",
       "    <tr>\n",
       "      <th>2</th>\n",
       "      <td>Present_Price, Kms_Driven</td>\n",
       "      <td>0.203647</td>\n",
       "    </tr>\n",
       "  </tbody>\n",
       "</table>\n",
       "</div>"
      ],
      "text/plain": [
       "                      Fields  Correlation_Value\n",
       "1           Year, Kms_Driven          -0.524342\n",
       "0        Year, Present_Price          -0.047584\n",
       "2  Present_Price, Kms_Driven           0.203647"
      ]
     },
     "execution_count": 122,
     "metadata": {},
     "output_type": "execute_result"
    }
   ],
   "source": [
    "f_sorted_correlations(df, num_f, omited_fields = \"Selling_Price\")"
   ]
  },
  {
   "attachments": {},
   "cell_type": "markdown",
   "metadata": {},
   "source": [
    "It seems there is multicollinearity between Year and Kms_Driven fields."
   ]
  },
  {
   "cell_type": "markdown",
   "metadata": {},
   "source": [
    "### Correlation Analysis between Numeric Fields and Target"
   ]
  },
  {
   "cell_type": "code",
   "execution_count": 123,
   "metadata": {},
   "outputs": [
    {
     "data": {
      "text/html": [
       "<div>\n",
       "<style scoped>\n",
       "    .dataframe tbody tr th:only-of-type {\n",
       "        vertical-align: middle;\n",
       "    }\n",
       "\n",
       "    .dataframe tbody tr th {\n",
       "        vertical-align: top;\n",
       "    }\n",
       "\n",
       "    .dataframe thead th {\n",
       "        text-align: right;\n",
       "    }\n",
       "</style>\n",
       "<table border=\"1\" class=\"dataframe\">\n",
       "  <thead>\n",
       "    <tr style=\"text-align: right;\">\n",
       "      <th></th>\n",
       "      <th>Kms_Driven</th>\n",
       "      <th>Year</th>\n",
       "      <th>Present_Price</th>\n",
       "    </tr>\n",
       "  </thead>\n",
       "  <tbody>\n",
       "    <tr>\n",
       "      <th>Selling_Price</th>\n",
       "      <td>0.029187</td>\n",
       "      <td>0.236141</td>\n",
       "      <td>0.878983</td>\n",
       "    </tr>\n",
       "  </tbody>\n",
       "</table>\n",
       "</div>"
      ],
      "text/plain": [
       "               Kms_Driven      Year  Present_Price\n",
       "Selling_Price    0.029187  0.236141       0.878983"
      ]
     },
     "execution_count": 123,
     "metadata": {},
     "output_type": "execute_result"
    }
   ],
   "source": [
    "f_sorted_correlations(df, num_f, target_field = \"Selling_Price\")"
   ]
  },
  {
   "attachments": {},
   "cell_type": "markdown",
   "metadata": {},
   "source": [
    "Among numerical fields Kms_Driven's correlation coefficiency is not high enough to say that there is a relation between this field and target field."
   ]
  },
  {
   "attachments": {},
   "cell_type": "markdown",
   "metadata": {},
   "source": [
    "### Correlation Analysis between Categorical Among Themselves"
   ]
  },
  {
   "cell_type": "code",
   "execution_count": 124,
   "metadata": {},
   "outputs": [
    {
     "data": {
      "text/html": [
       "<div>\n",
       "<style scoped>\n",
       "    .dataframe tbody tr th:only-of-type {\n",
       "        vertical-align: middle;\n",
       "    }\n",
       "\n",
       "    .dataframe tbody tr th {\n",
       "        vertical-align: top;\n",
       "    }\n",
       "\n",
       "    .dataframe thead th {\n",
       "        text-align: right;\n",
       "    }\n",
       "</style>\n",
       "<table border=\"1\" class=\"dataframe\">\n",
       "  <thead>\n",
       "    <tr style=\"text-align: right;\">\n",
       "      <th></th>\n",
       "      <th>Fields</th>\n",
       "      <th>Correlation_Value</th>\n",
       "    </tr>\n",
       "  </thead>\n",
       "  <tbody>\n",
       "    <tr>\n",
       "      <th>0</th>\n",
       "      <td>Fuel_Type_int, Seller_Type_int</td>\n",
       "      <td>-0.352415</td>\n",
       "    </tr>\n",
       "    <tr>\n",
       "      <th>3</th>\n",
       "      <td>Seller_Type_int, Transmission_int</td>\n",
       "      <td>-0.063240</td>\n",
       "    </tr>\n",
       "    <tr>\n",
       "      <th>2</th>\n",
       "      <td>Fuel_Type_int, Owner</td>\n",
       "      <td>-0.055705</td>\n",
       "    </tr>\n",
       "    <tr>\n",
       "      <th>5</th>\n",
       "      <td>Transmission_int, Owner</td>\n",
       "      <td>0.050316</td>\n",
       "    </tr>\n",
       "    <tr>\n",
       "      <th>1</th>\n",
       "      <td>Fuel_Type_int, Transmission_int</td>\n",
       "      <td>0.080466</td>\n",
       "    </tr>\n",
       "    <tr>\n",
       "      <th>4</th>\n",
       "      <td>Seller_Type_int, Owner</td>\n",
       "      <td>0.124269</td>\n",
       "    </tr>\n",
       "  </tbody>\n",
       "</table>\n",
       "</div>"
      ],
      "text/plain": [
       "                              Fields  Correlation_Value\n",
       "0     Fuel_Type_int, Seller_Type_int          -0.352415\n",
       "3  Seller_Type_int, Transmission_int          -0.063240\n",
       "2               Fuel_Type_int, Owner          -0.055705\n",
       "5            Transmission_int, Owner           0.050316\n",
       "1    Fuel_Type_int, Transmission_int           0.080466\n",
       "4             Seller_Type_int, Owner           0.124269"
      ]
     },
     "execution_count": 124,
     "metadata": {},
     "output_type": "execute_result"
    }
   ],
   "source": [
    "f_sorted_correlations(df, fields = cat_f_int)"
   ]
  },
  {
   "cell_type": "markdown",
   "metadata": {},
   "source": [
    "### Correlation Analysis between Categorical Fields and Target"
   ]
  },
  {
   "cell_type": "code",
   "execution_count": 125,
   "metadata": {},
   "outputs": [
    {
     "data": {
      "text/html": [
       "<div>\n",
       "<style scoped>\n",
       "    .dataframe tbody tr th:only-of-type {\n",
       "        vertical-align: middle;\n",
       "    }\n",
       "\n",
       "    .dataframe tbody tr th {\n",
       "        vertical-align: top;\n",
       "    }\n",
       "\n",
       "    .dataframe thead th {\n",
       "        text-align: right;\n",
       "    }\n",
       "</style>\n",
       "<table border=\"1\" class=\"dataframe\">\n",
       "  <thead>\n",
       "    <tr style=\"text-align: right;\">\n",
       "      <th></th>\n",
       "      <th>Seller_Type_int</th>\n",
       "      <th>Owner</th>\n",
       "      <th>Transmission_int</th>\n",
       "      <th>Fuel_Type_int</th>\n",
       "    </tr>\n",
       "  </thead>\n",
       "  <tbody>\n",
       "    <tr>\n",
       "      <th>Selling_Price</th>\n",
       "      <td>-0.550724</td>\n",
       "      <td>-0.088344</td>\n",
       "      <td>0.367128</td>\n",
       "      <td>0.509467</td>\n",
       "    </tr>\n",
       "  </tbody>\n",
       "</table>\n",
       "</div>"
      ],
      "text/plain": [
       "               Seller_Type_int     Owner  Transmission_int  Fuel_Type_int\n",
       "Selling_Price        -0.550724 -0.088344          0.367128       0.509467"
      ]
     },
     "execution_count": 125,
     "metadata": {},
     "output_type": "execute_result"
    }
   ],
   "source": [
    "f_sorted_correlations(df, cat_f_int + [\"Selling_Price\"], target_field = \"Selling_Price\")"
   ]
  },
  {
   "attachments": {},
   "cell_type": "markdown",
   "metadata": {},
   "source": [
    "Among categorical fields Owner's correlation coefficiency is not high enough to say that there is a relation between this field and target field."
   ]
  },
  {
   "cell_type": "markdown",
   "id": "dc4085c2",
   "metadata": {
    "papermill": {
     "duration": 0.330287,
     "end_time": "2022-04-21T13:58:33.896590",
     "exception": false,
     "start_time": "2022-04-21T13:58:33.566303",
     "status": "completed"
    },
    "tags": []
   },
   "source": [
    "### Numeric and Categorical Fields Correlation Analysis"
   ]
  },
  {
   "cell_type": "code",
   "execution_count": 126,
   "metadata": {},
   "outputs": [
    {
     "data": {
      "text/html": [
       "<div>\n",
       "<style scoped>\n",
       "    .dataframe tbody tr th:only-of-type {\n",
       "        vertical-align: middle;\n",
       "    }\n",
       "\n",
       "    .dataframe tbody tr th {\n",
       "        vertical-align: top;\n",
       "    }\n",
       "\n",
       "    .dataframe thead th {\n",
       "        text-align: right;\n",
       "    }\n",
       "</style>\n",
       "<table border=\"1\" class=\"dataframe\">\n",
       "  <thead>\n",
       "    <tr style=\"text-align: right;\">\n",
       "      <th></th>\n",
       "      <th>Year</th>\n",
       "      <th>Present_Price</th>\n",
       "      <th>Kms_Driven</th>\n",
       "    </tr>\n",
       "  </thead>\n",
       "  <tbody>\n",
       "    <tr>\n",
       "      <th>Fuel_Type_int</th>\n",
       "      <td>0.053643</td>\n",
       "      <td>0.440415</td>\n",
       "      <td>0.166801</td>\n",
       "    </tr>\n",
       "    <tr>\n",
       "      <th>Seller_Type_int</th>\n",
       "      <td>-0.039896</td>\n",
       "      <td>-0.512030</td>\n",
       "      <td>-0.101419</td>\n",
       "    </tr>\n",
       "    <tr>\n",
       "      <th>Transmission_int</th>\n",
       "      <td>-0.000394</td>\n",
       "      <td>0.348715</td>\n",
       "      <td>0.162510</td>\n",
       "    </tr>\n",
       "    <tr>\n",
       "      <th>Owner</th>\n",
       "      <td>-0.182104</td>\n",
       "      <td>0.008057</td>\n",
       "      <td>0.089216</td>\n",
       "    </tr>\n",
       "  </tbody>\n",
       "</table>\n",
       "</div>"
      ],
      "text/plain": [
       "                      Year  Present_Price  Kms_Driven\n",
       "Fuel_Type_int     0.053643       0.440415    0.166801\n",
       "Seller_Type_int  -0.039896      -0.512030   -0.101419\n",
       "Transmission_int -0.000394       0.348715    0.162510\n",
       "Owner            -0.182104       0.008057    0.089216"
      ]
     },
     "execution_count": 126,
     "metadata": {},
     "output_type": "execute_result"
    }
   ],
   "source": [
    "f_sorted_correlations(df, cat_num = [cat_f_int, num_f]).drop([\"Selling_Price\"], axis = 1)"
   ]
  },
  {
   "attachments": {},
   "cell_type": "markdown",
   "metadata": {},
   "source": [
    "It seems there are multicollinearity between Fuel_Type and Seller_Type and Present_Price fields."
   ]
  },
  {
   "cell_type": "code",
   "execution_count": 127,
   "metadata": {},
   "outputs": [
    {
     "data": {
      "text/html": [
       "<div>\n",
       "<style scoped>\n",
       "    .dataframe tbody tr th:only-of-type {\n",
       "        vertical-align: middle;\n",
       "    }\n",
       "\n",
       "    .dataframe tbody tr th {\n",
       "        vertical-align: top;\n",
       "    }\n",
       "\n",
       "    .dataframe thead th {\n",
       "        text-align: right;\n",
       "    }\n",
       "</style>\n",
       "<table border=\"1\" class=\"dataframe\">\n",
       "  <thead>\n",
       "    <tr style=\"text-align: right;\">\n",
       "      <th></th>\n",
       "      <th>Owner</th>\n",
       "      <th>Transmission_int</th>\n",
       "      <th>Fuel_Type_int</th>\n",
       "      <th>Kms_Driven</th>\n",
       "      <th>Seller_Type_int</th>\n",
       "      <th>Present_Price</th>\n",
       "      <th>Year</th>\n",
       "    </tr>\n",
       "  </thead>\n",
       "  <tbody>\n",
       "    <tr>\n",
       "      <th>VIF</th>\n",
       "      <td>1.065787</td>\n",
       "      <td>1.36193</td>\n",
       "      <td>1.620168</td>\n",
       "      <td>2.042232</td>\n",
       "      <td>2.229093</td>\n",
       "      <td>3.164007</td>\n",
       "      <td>4.427574</td>\n",
       "    </tr>\n",
       "  </tbody>\n",
       "</table>\n",
       "</div>"
      ],
      "text/plain": [
       "        Owner  Transmission_int  Fuel_Type_int  Kms_Driven  Seller_Type_int  \\\n",
       "VIF  1.065787           1.36193       1.620168    2.042232         2.229093   \n",
       "\n",
       "     Present_Price      Year  \n",
       "VIF       3.164007  4.427574  "
      ]
     },
     "execution_count": 127,
     "metadata": {},
     "output_type": "execute_result"
    }
   ],
   "source": [
    "f_vif_function(df[num_f + cat_f_int], omited_fields = [\"Selling_Price\"])"
   ]
  },
  {
   "attachments": {},
   "cell_type": "markdown",
   "metadata": {},
   "source": [
    "By checking VIF value of each field we can consider if multicollinearity between fields are high enough to think about a root solution."
   ]
  },
  {
   "attachments": {},
   "cell_type": "markdown",
   "metadata": {},
   "source": [
    "### Making Decision About Fields to Keep and Relation Between Fields"
   ]
  },
  {
   "cell_type": "code",
   "execution_count": 128,
   "metadata": {},
   "outputs": [],
   "source": [
    "correlated_f = [\"Year\", \"Present_Price\", \"Fuel_Type_int\", \"Seller_Type_int\", \"Transmission_int\"]"
   ]
  },
  {
   "attachments": {},
   "cell_type": "markdown",
   "metadata": {},
   "source": [
    "We can consider the list above the most correlated fields for predicting selling price."
   ]
  },
  {
   "cell_type": "markdown",
   "metadata": {},
   "source": [
    "[Project Content](#0)"
   ]
  },
  {
   "attachments": {},
   "cell_type": "markdown",
   "id": "dc4085c2",
   "metadata": {
    "papermill": {
     "duration": 0.330287,
     "end_time": "2022-04-21T13:58:33.896590",
     "exception": false,
     "start_time": "2022-04-21T13:58:33.566303",
     "status": "completed"
    },
    "tags": []
   },
   "source": [
    "## 7. Dealing with Outliers <a id = 7></a> "
   ]
  },
  {
   "cell_type": "code",
   "execution_count": 129,
   "metadata": {},
   "outputs": [
    {
     "data": {
      "image/png": "[encoded data removed]",
      "text/plain": [
       "<Figure size 3000x800 with 4 Axes>"
      ]
     },
     "metadata": {},
     "output_type": "display_data"
    }
   ],
   "source": [
    "title_font = {\"family\" : \"arial\", \"color\" : \"k\", \"weight\" : \"bold\", \"size\" : 14}\n",
    "text_font = {\"family\" : \"arial\", \"color\" : \"k\", \"size\" : 10}\n",
    "\n",
    "figure, axis = plt.subplots(1, 4, figsize = (30, 8))\n",
    "outliers_index_list = []\n",
    "\n",
    "for field in num_f:\n",
    "    \n",
    "    i = num_f.index(field)\n",
    "    q1 = df[field].quantile(q = 0.25)\n",
    "    q3 = df[field].quantile(q = 0.75)\n",
    "    iqr = q3 - q1\n",
    "    u = round(q3 + 1.5 * iqr, 2)\n",
    "    l = round(q1 - 1.5 * iqr, 2)\n",
    "    \n",
    "    outliers_df = pd.concat([df[df[field] > u], df[df[field] < l]])\n",
    "    outliers_index_list += list(outliers_df.index)\n",
    "    \n",
    "    axis[i].boxplot(df[field], notch = True, \n",
    "                               patch_artist = True, \n",
    "                               boxprops = dict(facecolor = \"white\", color = \"gray\", linewidth = 2),\n",
    "                               capprops = dict(color = \"red\", linewidth = 2),\n",
    "                               whiskerprops = dict(color = \"white\"),\n",
    "                               flierprops = dict(color = \"red\", markeredgecolor = \"black\"),\n",
    "                               medianprops = dict(color = \"green\", linewidth = 2))\n",
    "    \n",
    "    axis[i].set_title(field, fontdict = title_font)\n",
    "    axis[i].annotate(f\"\"\"Upper Limit = {u}\\nMed = {df[field].median()}\\nLower Limit = {l}\\n\\nNumber of Outliers = {len(outliers_df)}\"\"\",\n",
    "                     xy = (0.05, 0.05), xycoords = \"axes fraction\", fontsize = 10, horizontalalignment = \"left\", verticalalignment = \"bottom\")\n",
    "    \n",
    "plt.show()"
   ]
  },
  {
   "attachments": {},
   "cell_type": "markdown",
   "metadata": {},
   "source": [
    "As it seems these four fields have some outlier datapoints and for fixing this issue I've prefered to omit the datapoins which are considered outlier simultaneously in all fields.\n",
    "\n",
    "To check if this approach is the best one, we plot the boxplots again after deleting these datapoints."
   ]
  },
  {
   "cell_type": "code",
   "execution_count": 130,
   "metadata": {},
   "outputs": [
    {
     "name": "stdout",
     "output_type": "stream",
     "text": [
      "Number of outliers that have a very high or very low value in all numerical fields:   27\n"
     ]
    }
   ],
   "source": [
    "outliers_index_list = list(set(outliers_index_list))\n",
    "\n",
    "print(\"Number of outliers that have a very high or very low value in all numerical fields:  \", len(outliers_index_list))\n",
    "\n",
    "no_ol_df = df.drop(index = outliers_index_list)"
   ]
  },
  {
   "cell_type": "code",
   "execution_count": 131,
   "metadata": {},
   "outputs": [
    {
     "data": {
      "image/png": "[encoded data removed]",
      "text/plain": [
       "<Figure size 3000x800 with 4 Axes>"
      ]
     },
     "metadata": {},
     "output_type": "display_data"
    }
   ],
   "source": [
    "title_font = {\"family\" : \"arial\", \"color\" : \"k\", \"weight\" : \"bold\", \"size\" : 14}\n",
    "text_font = {\"family\" : \"arial\", \"color\" : \"k\", \"size\" : 10}\n",
    "\n",
    "figure, axis = plt.subplots(1, 4, figsize = (30, 8))\n",
    "\n",
    "for field in num_f:\n",
    "    \n",
    "    i = num_f.index(field)\n",
    "    q1 = no_ol_df[field].quantile(q = 0.25)\n",
    "    q3 = no_ol_df[field].quantile(q = 0.75)\n",
    "    iqr = q3 - q1\n",
    "    u = round(q3 + 1.5 * iqr, 2)\n",
    "    l = round(q1 - 1.5 * iqr, 2)\n",
    "    \n",
    "    outliers_df = pd.concat([no_ol_df[no_ol_df[field] > u], no_ol_df[no_ol_df[field] < l]])\n",
    "    outliers_index_list += list(outliers_df.index)\n",
    "    \n",
    "    axis[i].boxplot(no_ol_df[field], notch = True, \n",
    "                               patch_artist = True, \n",
    "                               boxprops = dict(facecolor = \"white\", color = \"gray\", linewidth = 2),\n",
    "                               capprops = dict(color = \"red\", linewidth = 2),\n",
    "                               whiskerprops = dict(color = \"white\"),\n",
    "                               flierprops = dict(color = \"red\", markeredgecolor = \"black\"),\n",
    "                               medianprops = dict(color = \"green\", linewidth = 2))\n",
    "    \n",
    "    axis[i].set_title(field, fontdict = title_font)\n",
    "    axis[i].annotate(f\"\"\"Upper Limit = {u}\\nMed = {df[field].median()}\\nLower Limit = {l}\\n\\nNumber of Outliers = {len(outliers_df)}\"\"\",\n",
    "                     xy = (0.05, 0.05), xycoords = \"axes fraction\", fontsize = 10, horizontalalignment = \"left\", verticalalignment = \"bottom\")\n",
    "    \n",
    "plt.show()"
   ]
  },
  {
   "cell_type": "markdown",
   "metadata": {},
   "source": [
    "It seems OK. Nice :)"
   ]
  },
  {
   "cell_type": "markdown",
   "metadata": {},
   "source": [
    "[Project Content](#0)"
   ]
  },
  {
   "attachments": {},
   "cell_type": "markdown",
   "id": "dc4085c2",
   "metadata": {
    "papermill": {
     "duration": 0.330287,
     "end_time": "2022-04-21T13:58:33.896590",
     "exception": false,
     "start_time": "2022-04-21T13:58:33.566303",
     "status": "completed"
    },
    "tags": []
   },
   "source": [
    "## 8. Seperating Data into Two Parts of Train and Development Datasets <a id = 8></a> "
   ]
  },
  {
   "attachments": {},
   "cell_type": "markdown",
   "metadata": {},
   "source": [
    "Now we are in the latest parts in our journey. Before anyhing else let's our dataframe again..."
   ]
  },
  {
   "cell_type": "code",
   "execution_count": 132,
   "metadata": {},
   "outputs": [
    {
     "data": {
      "text/html": [
       "<div>\n",
       "<style scoped>\n",
       "    .dataframe tbody tr th:only-of-type {\n",
       "        vertical-align: middle;\n",
       "    }\n",
       "\n",
       "    .dataframe tbody tr th {\n",
       "        vertical-align: top;\n",
       "    }\n",
       "\n",
       "    .dataframe thead th {\n",
       "        text-align: right;\n",
       "    }\n",
       "</style>\n",
       "<table border=\"1\" class=\"dataframe\">\n",
       "  <thead>\n",
       "    <tr style=\"text-align: right;\">\n",
       "      <th></th>\n",
       "      <th>Year</th>\n",
       "      <th>Selling_Price</th>\n",
       "      <th>Present_Price</th>\n",
       "      <th>Kms_Driven</th>\n",
       "      <th>Fuel_Type</th>\n",
       "      <th>Seller_Type</th>\n",
       "      <th>Transmission</th>\n",
       "      <th>Owner</th>\n",
       "      <th>Fuel_Type_int</th>\n",
       "      <th>Seller_Type_int</th>\n",
       "      <th>Transmission_int</th>\n",
       "    </tr>\n",
       "  </thead>\n",
       "  <tbody>\n",
       "    <tr>\n",
       "      <th>0</th>\n",
       "      <td>2014</td>\n",
       "      <td>3.35</td>\n",
       "      <td>5.59</td>\n",
       "      <td>27000</td>\n",
       "      <td>Petrol</td>\n",
       "      <td>Dealer</td>\n",
       "      <td>Manual</td>\n",
       "      <td>0</td>\n",
       "      <td>0</td>\n",
       "      <td>0</td>\n",
       "      <td>0</td>\n",
       "    </tr>\n",
       "    <tr>\n",
       "      <th>1</th>\n",
       "      <td>2013</td>\n",
       "      <td>4.75</td>\n",
       "      <td>9.54</td>\n",
       "      <td>43000</td>\n",
       "      <td>Diesel</td>\n",
       "      <td>Dealer</td>\n",
       "      <td>Manual</td>\n",
       "      <td>0</td>\n",
       "      <td>1</td>\n",
       "      <td>0</td>\n",
       "      <td>0</td>\n",
       "    </tr>\n",
       "    <tr>\n",
       "      <th>2</th>\n",
       "      <td>2017</td>\n",
       "      <td>7.25</td>\n",
       "      <td>9.85</td>\n",
       "      <td>6900</td>\n",
       "      <td>Petrol</td>\n",
       "      <td>Dealer</td>\n",
       "      <td>Manual</td>\n",
       "      <td>0</td>\n",
       "      <td>0</td>\n",
       "      <td>0</td>\n",
       "      <td>0</td>\n",
       "    </tr>\n",
       "    <tr>\n",
       "      <th>3</th>\n",
       "      <td>2011</td>\n",
       "      <td>2.85</td>\n",
       "      <td>4.15</td>\n",
       "      <td>5200</td>\n",
       "      <td>Petrol</td>\n",
       "      <td>Dealer</td>\n",
       "      <td>Manual</td>\n",
       "      <td>0</td>\n",
       "      <td>0</td>\n",
       "      <td>0</td>\n",
       "      <td>0</td>\n",
       "    </tr>\n",
       "    <tr>\n",
       "      <th>4</th>\n",
       "      <td>2014</td>\n",
       "      <td>4.60</td>\n",
       "      <td>6.87</td>\n",
       "      <td>42450</td>\n",
       "      <td>Diesel</td>\n",
       "      <td>Dealer</td>\n",
       "      <td>Manual</td>\n",
       "      <td>0</td>\n",
       "      <td>1</td>\n",
       "      <td>0</td>\n",
       "      <td>0</td>\n",
       "    </tr>\n",
       "    <tr>\n",
       "      <th>...</th>\n",
       "      <td>...</td>\n",
       "      <td>...</td>\n",
       "      <td>...</td>\n",
       "      <td>...</td>\n",
       "      <td>...</td>\n",
       "      <td>...</td>\n",
       "      <td>...</td>\n",
       "      <td>...</td>\n",
       "      <td>...</td>\n",
       "      <td>...</td>\n",
       "      <td>...</td>\n",
       "    </tr>\n",
       "    <tr>\n",
       "      <th>296</th>\n",
       "      <td>2016</td>\n",
       "      <td>9.50</td>\n",
       "      <td>11.60</td>\n",
       "      <td>33988</td>\n",
       "      <td>Diesel</td>\n",
       "      <td>Dealer</td>\n",
       "      <td>Manual</td>\n",
       "      <td>0</td>\n",
       "      <td>1</td>\n",
       "      <td>0</td>\n",
       "      <td>0</td>\n",
       "    </tr>\n",
       "    <tr>\n",
       "      <th>297</th>\n",
       "      <td>2015</td>\n",
       "      <td>4.00</td>\n",
       "      <td>5.90</td>\n",
       "      <td>60000</td>\n",
       "      <td>Petrol</td>\n",
       "      <td>Dealer</td>\n",
       "      <td>Manual</td>\n",
       "      <td>0</td>\n",
       "      <td>0</td>\n",
       "      <td>0</td>\n",
       "      <td>0</td>\n",
       "    </tr>\n",
       "    <tr>\n",
       "      <th>298</th>\n",
       "      <td>2009</td>\n",
       "      <td>3.35</td>\n",
       "      <td>11.00</td>\n",
       "      <td>87934</td>\n",
       "      <td>Petrol</td>\n",
       "      <td>Dealer</td>\n",
       "      <td>Manual</td>\n",
       "      <td>0</td>\n",
       "      <td>0</td>\n",
       "      <td>0</td>\n",
       "      <td>0</td>\n",
       "    </tr>\n",
       "    <tr>\n",
       "      <th>299</th>\n",
       "      <td>2017</td>\n",
       "      <td>11.50</td>\n",
       "      <td>12.50</td>\n",
       "      <td>9000</td>\n",
       "      <td>Diesel</td>\n",
       "      <td>Dealer</td>\n",
       "      <td>Manual</td>\n",
       "      <td>0</td>\n",
       "      <td>1</td>\n",
       "      <td>0</td>\n",
       "      <td>0</td>\n",
       "    </tr>\n",
       "    <tr>\n",
       "      <th>300</th>\n",
       "      <td>2016</td>\n",
       "      <td>5.30</td>\n",
       "      <td>5.90</td>\n",
       "      <td>5464</td>\n",
       "      <td>Petrol</td>\n",
       "      <td>Dealer</td>\n",
       "      <td>Manual</td>\n",
       "      <td>0</td>\n",
       "      <td>0</td>\n",
       "      <td>0</td>\n",
       "      <td>0</td>\n",
       "    </tr>\n",
       "  </tbody>\n",
       "</table>\n",
       "<p>274 rows × 11 columns</p>\n",
       "</div>"
      ],
      "text/plain": [
       "     Year  Selling_Price  Present_Price  Kms_Driven Fuel_Type Seller_Type  \\\n",
       "0    2014           3.35           5.59       27000    Petrol      Dealer   \n",
       "1    2013           4.75           9.54       43000    Diesel      Dealer   \n",
       "2    2017           7.25           9.85        6900    Petrol      Dealer   \n",
       "3    2011           2.85           4.15        5200    Petrol      Dealer   \n",
       "4    2014           4.60           6.87       42450    Diesel      Dealer   \n",
       "..    ...            ...            ...         ...       ...         ...   \n",
       "296  2016           9.50          11.60       33988    Diesel      Dealer   \n",
       "297  2015           4.00           5.90       60000    Petrol      Dealer   \n",
       "298  2009           3.35          11.00       87934    Petrol      Dealer   \n",
       "299  2017          11.50          12.50        9000    Diesel      Dealer   \n",
       "300  2016           5.30           5.90        5464    Petrol      Dealer   \n",
       "\n",
       "    Transmission  Owner  Fuel_Type_int  Seller_Type_int  Transmission_int  \n",
       "0         Manual      0              0                0                 0  \n",
       "1         Manual      0              1                0                 0  \n",
       "2         Manual      0              0                0                 0  \n",
       "3         Manual      0              0                0                 0  \n",
       "4         Manual      0              1                0                 0  \n",
       "..           ...    ...            ...              ...               ...  \n",
       "296       Manual      0              1                0                 0  \n",
       "297       Manual      0              0                0                 0  \n",
       "298       Manual      0              0                0                 0  \n",
       "299       Manual      0              1                0                 0  \n",
       "300       Manual      0              0                0                 0  \n",
       "\n",
       "[274 rows x 11 columns]"
      ]
     },
     "execution_count": 132,
     "metadata": {},
     "output_type": "execute_result"
    }
   ],
   "source": [
    "no_ol_df"
   ]
  },
  {
   "attachments": {},
   "cell_type": "markdown",
   "metadata": {},
   "source": [
    "Checking the fields we want to use in our model..."
   ]
  },
  {
   "cell_type": "code",
   "execution_count": 133,
   "metadata": {},
   "outputs": [
    {
     "name": "stdout",
     "output_type": "stream",
     "text": [
      "Numerical Fields:     ['Year', 'Selling_Price', 'Present_Price', 'Kms_Driven']\n",
      "Categorical Fields:   ['Fuel_Type_int', 'Seller_Type_int', 'Transmission_int', 'Owner']\n",
      "\n",
      "Numeric Fields Correlated to Target:   ['Year', 'Present_Price']\n",
      "Numeric Fields Correlated to Target:   ['Fuel_Type_int', 'Seller_Type_int', 'Transmission_int']\n"
     ]
    }
   ],
   "source": [
    "print(f\"Numerical Fields:     {num_f}\")\n",
    "print(f\"Categorical Fields:   {cat_f_int}\\n\")\n",
    "\n",
    "print(f\"Numeric Fields Correlated to Target:   {[i for i in correlated_f if i in num_f]}\")\n",
    "print(f\"Numeric Fields Correlated to Target:   {[i for i in correlated_f if i in cat_f_int]}\")"
   ]
  },
  {
   "attachments": {},
   "cell_type": "markdown",
   "metadata": {},
   "source": [
    "Check Check Check. Let's split the dataset into two parts (train and development)."
   ]
  },
  {
   "cell_type": "code",
   "execution_count": 134,
   "metadata": {},
   "outputs": [
    {
     "name": "stdout",
     "output_type": "stream",
     "text": [
      "Train (x) dataset shape is:      (219, 5)\n",
      "Train (y) dataset shape is:      (219,)\n",
      "Dev (x) dataset shape is:       (55, 5)\n",
      "Dev (y) dataset shape is:       (55,)\n"
     ]
    }
   ],
   "source": [
    "x_t_corr, x_d_corr, y_t_corr, y_d_corr = f_train_dev_split(no_ol_df[correlated_f + [\"Selling_Price\"]], \"Selling_Price\")"
   ]
  },
  {
   "attachments": {},
   "cell_type": "markdown",
   "metadata": {},
   "source": [
    "I'm not sure if it's the best approuch to use correlated fields. It won't hurt if we check our model performance using all fields."
   ]
  },
  {
   "cell_type": "code",
   "execution_count": 135,
   "metadata": {},
   "outputs": [
    {
     "name": "stdout",
     "output_type": "stream",
     "text": [
      "Train (x) dataset shape is:      (219, 7)\n",
      "Train (y) dataset shape is:      (219,)\n",
      "Dev (x) dataset shape is:       (55, 7)\n",
      "Dev (y) dataset shape is:       (55,)\n"
     ]
    }
   ],
   "source": [
    "x_t, x_d, y_t, y_d = f_train_dev_split(no_ol_df[num_f + cat_f_int], \"Selling_Price\")"
   ]
  },
  {
   "attachments": {},
   "cell_type": "markdown",
   "metadata": {},
   "source": [
    "Nearly finished. For this part of the project, checking some regression models and determining the most accurate model are the last steps."
   ]
  },
  {
   "cell_type": "markdown",
   "metadata": {},
   "source": [
    "[Project Content](#0)"
   ]
  },
  {
   "attachments": {},
   "cell_type": "markdown",
   "metadata": {},
   "source": [
    "## 9. Linear Regression  <a id = 9></a> "
   ]
  },
  {
   "cell_type": "code",
   "execution_count": 136,
   "metadata": {},
   "outputs": [
    {
     "name": "stdout",
     "output_type": "stream",
     "text": [
      "Coefficients values:\n",
      "    * Seller_Type_int : -1.46\n",
      "    * Kms_Driven : -0.0\n",
      "    * Transmission_int : 0.14\n",
      "    * Owner : 0.23\n",
      "    * Year : 0.3\n",
      "    * Present_Price : 0.44\n",
      "    * Fuel_Type_int : 0.99\n",
      "\n",
      "Inetrcept: -598.314221554429\n",
      "\n"
     ]
    },
    {
     "data": {
      "text/html": [
       "<div>\n",
       "<style scoped>\n",
       "    .dataframe tbody tr th:only-of-type {\n",
       "        vertical-align: middle;\n",
       "    }\n",
       "\n",
       "    .dataframe tbody tr th {\n",
       "        vertical-align: top;\n",
       "    }\n",
       "\n",
       "    .dataframe thead th {\n",
       "        text-align: right;\n",
       "    }\n",
       "</style>\n",
       "<table border=\"1\" class=\"dataframe\">\n",
       "  <thead>\n",
       "    <tr style=\"text-align: right;\">\n",
       "      <th></th>\n",
       "      <th>Train</th>\n",
       "      <th>Dev</th>\n",
       "    </tr>\n",
       "  </thead>\n",
       "  <tbody>\n",
       "    <tr>\n",
       "      <th>R Squared</th>\n",
       "      <td>0.865454</td>\n",
       "      <td>0.808194</td>\n",
       "    </tr>\n",
       "  </tbody>\n",
       "</table>\n",
       "</div>"
      ],
      "text/plain": [
       "              Train       Dev\n",
       "R Squared  0.865454  0.808194"
      ]
     },
     "execution_count": 136,
     "metadata": {},
     "output_type": "execute_result"
    }
   ],
   "source": [
    "f_linear_regression([x_t, y_t], [x_d, y_d])"
   ]
  },
  {
   "cell_type": "code",
   "execution_count": 137,
   "metadata": {},
   "outputs": [
    {
     "name": "stdout",
     "output_type": "stream",
     "text": [
      "Coefficients values:\n",
      "    * Seller_Type_int : -1.36\n",
      "    * Transmission_int : 0.2\n",
      "    * Year : 0.37\n",
      "    * Present_Price : 0.42\n",
      "    * Fuel_Type_int : 0.83\n",
      "\n",
      "Inetrcept: -748.7243285368875\n",
      "\n"
     ]
    },
    {
     "data": {
      "text/html": [
       "<div>\n",
       "<style scoped>\n",
       "    .dataframe tbody tr th:only-of-type {\n",
       "        vertical-align: middle;\n",
       "    }\n",
       "\n",
       "    .dataframe tbody tr th {\n",
       "        vertical-align: top;\n",
       "    }\n",
       "\n",
       "    .dataframe thead th {\n",
       "        text-align: right;\n",
       "    }\n",
       "</style>\n",
       "<table border=\"1\" class=\"dataframe\">\n",
       "  <thead>\n",
       "    <tr style=\"text-align: right;\">\n",
       "      <th></th>\n",
       "      <th>Train</th>\n",
       "      <th>Dev</th>\n",
       "    </tr>\n",
       "  </thead>\n",
       "  <tbody>\n",
       "    <tr>\n",
       "      <th>R Squared</th>\n",
       "      <td>0.859181</td>\n",
       "      <td>0.788377</td>\n",
       "    </tr>\n",
       "  </tbody>\n",
       "</table>\n",
       "</div>"
      ],
      "text/plain": [
       "              Train       Dev\n",
       "R Squared  0.859181  0.788377"
      ]
     },
     "execution_count": 137,
     "metadata": {},
     "output_type": "execute_result"
    }
   ],
   "source": [
    "f_linear_regression([x_t_corr, y_t_corr], [x_d_corr, y_d_corr])"
   ]
  },
  {
   "cell_type": "markdown",
   "metadata": {},
   "source": [
    "[Project Content](#0)"
   ]
  },
  {
   "attachments": {},
   "cell_type": "markdown",
   "metadata": {},
   "source": [
    "## 10. Extreme Gradient Boost Regression  <a id = 10></a> "
   ]
  },
  {
   "cell_type": "code",
   "execution_count": 138,
   "metadata": {},
   "outputs": [
    {
     "name": "stdout",
     "output_type": "stream",
     "text": [
      "Train dataset accuracy is:        0.9999976728228114\n",
      "Development dataset accuracy is:  0.8983801010321644 \n",
      "\n",
      "The most important features are: {'Year': 0.082, 'Present_Price': 0.785, 'Kms_Driven': 0.022, 'Fuel_Type_int': 0.079, 'Seller_Type_int': 0.0, 'Transmission_int': 0.029, 'Owner': 0.003}\n"
     ]
    }
   ],
   "source": [
    "model = XGBRegressor()\n",
    "model.fit(x_t, y_t)\n",
    "\n",
    "feature_importance_dict = {}\n",
    "\n",
    "for feature in list(model.feature_names_in_):\n",
    "    feature_importance_dict[feature] = round(list(model.feature_importances_)[list(model.feature_names_in_).index(feature)], 3)\n",
    "    \n",
    "print(\"Train dataset accuracy is:       \", model.score(x_t, y_t))\n",
    "print(\"Development dataset accuracy is: \", model.score(x_d, y_d), \"\\n\")\n",
    "\n",
    "print(\"The most important features are:\" , feature_importance_dict)"
   ]
  },
  {
   "cell_type": "code",
   "execution_count": 139,
   "metadata": {},
   "outputs": [
    {
     "name": "stdout",
     "output_type": "stream",
     "text": [
      "Train dataset accuracy is:        0.9969684747083013\n",
      "Development dataset accuracy is:  0.9132161033126132 \n",
      "\n",
      "The most important features are: {'Year': 0.13, 'Present_Price': 0.805, 'Fuel_Type_int': 0.054, 'Seller_Type_int': 0.001, 'Transmission_int': 0.01}\n"
     ]
    }
   ],
   "source": [
    "model = XGBRegressor()\n",
    "model.fit(x_t_corr, y_t_corr)\n",
    "\n",
    "feature_importance_dict = {}\n",
    "\n",
    "for feature in list(model.feature_names_in_):\n",
    "    feature_importance_dict[feature] = round(list(model.feature_importances_)[list(model.feature_names_in_).index(feature)], 3)\n",
    "    \n",
    "print(\"Train dataset accuracy is:       \", model.score(x_t_corr, y_t_corr))\n",
    "print(\"Development dataset accuracy is: \", model.score(x_d_corr, y_d_corr), \"\\n\")\n",
    "\n",
    "print(\"The most important features are:\" , feature_importance_dict)"
   ]
  },
  {
   "cell_type": "markdown",
   "metadata": {},
   "source": [
    "[Project Content](#0)"
   ]
  },
  {
   "attachments": {},
   "cell_type": "markdown",
   "metadata": {},
   "source": [
    "## 11. Light Gradient Boosting Machine Regression  <a id = 11></a> "
   ]
  },
  {
   "cell_type": "code",
   "execution_count": 140,
   "metadata": {},
   "outputs": [
    {
     "name": "stdout",
     "output_type": "stream",
     "text": [
      "Train dataset accuracy is:        0.9734609302883472\n",
      "Development dataset accuracy is:  0.915261296735642 \n",
      "\n",
      "The most important features are: {'Year': 143, 'Present_Price': 328, 'Kms_Driven': 180, 'Fuel_Type_int': 68, 'Seller_Type_int': 15, 'Transmission_int': 4, 'Owner': 0}\n"
     ]
    }
   ],
   "source": [
    "model = LGBMRegressor()\n",
    "model.fit(x_t, y_t)\n",
    "\n",
    "feature_importance_dict = {}\n",
    "\n",
    "for feature in list(model.feature_name_):\n",
    "    feature_importance_dict[feature] = list(model.feature_importances_)[list(model.feature_name_).index(feature)]\n",
    "\n",
    "print(\"Train dataset accuracy is:       \", model.score(x_t, y_t))\n",
    "print(\"Development dataset accuracy is: \", model.score(x_d, y_d), \"\\n\")\n",
    "\n",
    "print(\"The most important features are:\" , feature_importance_dict)"
   ]
  },
  {
   "cell_type": "code",
   "execution_count": 141,
   "metadata": {},
   "outputs": [
    {
     "name": "stdout",
     "output_type": "stream",
     "text": [
      "Train dataset accuracy is:        0.9612426408913688\n",
      "Development dataset accuracy is:  0.9264514415449389 \n",
      "\n",
      "The most important features are: {'Year': 197, 'Present_Price': 432, 'Fuel_Type_int': 61, 'Seller_Type_int': 14, 'Transmission_int': 5}\n"
     ]
    }
   ],
   "source": [
    "model = LGBMRegressor()\n",
    "model.fit(x_t_corr, y_t_corr)\n",
    "\n",
    "feature_importance_dict = {}\n",
    "\n",
    "for feature in list(model.feature_name_):\n",
    "    feature_importance_dict[feature] = list(model.feature_importances_)[list(model.feature_name_).index(feature)]\n",
    "\n",
    "print(\"Train dataset accuracy is:       \", model.score(x_t_corr, y_t_corr))\n",
    "print(\"Development dataset accuracy is: \", model.score(x_d_corr, y_d_corr), \"\\n\")\n",
    "\n",
    "print(\"The most important features are:\" , feature_importance_dict)"
   ]
  },
  {
   "cell_type": "markdown",
   "metadata": {},
   "source": [
    "[Project Content](#0)"
   ]
  },
  {
   "attachments": {},
   "cell_type": "markdown",
   "metadata": {},
   "source": [
    "## 12. Gradient Boosting Regression  <a id = 12></a> "
   ]
  },
  {
   "cell_type": "code",
   "execution_count": 142,
   "metadata": {},
   "outputs": [
    {
     "name": "stdout",
     "output_type": "stream",
     "text": [
      "Train dataset accuracy is:        0.9937404383649722\n",
      "Development dataset accuracy is:  0.9313696114710758 \n",
      "\n",
      "The most important features are: {'Year': 0.093, 'Present_Price': 0.869, 'Kms_Driven': 0.025, 'Fuel_Type_int': 0.01, 'Seller_Type_int': 0.0, 'Transmission_int': 0.001, 'Owner': 0.0}\n"
     ]
    }
   ],
   "source": [
    "model = GradientBoostingRegressor()\n",
    "model.fit(x_t, y_t)\n",
    "\n",
    "feature_importance_dict = {}\n",
    "\n",
    "for feature in list(model.feature_names_in_):\n",
    "    feature_importance_dict[feature] = round(list(model.feature_importances_)[list(model.feature_names_in_).index(feature)], 3)\n",
    "\n",
    "print(\"Train dataset accuracy is:       \", model.score(x_t, y_t))\n",
    "print(\"Development dataset accuracy is: \", model.score(x_d, y_d), \"\\n\")\n",
    "\n",
    "print(\"The most important features are:\" , feature_importance_dict)"
   ]
  },
  {
   "cell_type": "code",
   "execution_count": 143,
   "metadata": {},
   "outputs": [
    {
     "name": "stdout",
     "output_type": "stream",
     "text": [
      "Train dataset accuracy is:        0.9895115419712122\n",
      "Development dataset accuracy is:  0.9458027031950796 \n",
      "\n",
      "The most important features are: {'Year': 0.106, 'Present_Price': 0.881, 'Fuel_Type_int': 0.011, 'Seller_Type_int': 0.0, 'Transmission_int': 0.002}\n"
     ]
    }
   ],
   "source": [
    "model = GradientBoostingRegressor()\n",
    "model.fit(x_t_corr, y_t_corr)\n",
    "\n",
    "feature_importance_dict = {}\n",
    "\n",
    "for feature in list(model.feature_names_in_):\n",
    "    feature_importance_dict[feature] = round(list(model.feature_importances_)[list(model.feature_names_in_).index(feature)], 3)\n",
    "\n",
    "print(\"Train dataset accuracy is:       \", model.score(x_t_corr, y_t_corr))\n",
    "print(\"Development dataset accuracy is: \", model.score(x_d_corr, y_d_corr), \"\\n\")\n",
    "\n",
    "print(\"The most important features are:\" , feature_importance_dict)"
   ]
  },
  {
   "cell_type": "markdown",
   "metadata": {},
   "source": [
    "[Project Content](#0)"
   ]
  },
  {
   "attachments": {},
   "cell_type": "markdown",
   "metadata": {},
   "source": [
    "## 13. Cat Boost Regression  <a id = 13></a> "
   ]
  },
  {
   "cell_type": "code",
   "execution_count": 144,
   "metadata": {},
   "outputs": [
    {
     "name": "stdout",
     "output_type": "stream",
     "text": [
      "Train dataset accuracy is:        0.9980778534410834\n",
      "Development dataset accuracy is:  0.9435893332185543 \n",
      "\n",
      "The most important features are: {'Year': 15.345, 'Present_Price': 53.225, 'Kms_Driven': 6.563, 'Fuel_Type_int': 5.26, 'Seller_Type_int': 18.49, 'Transmission_int': 0.89, 'Owner': 0.225}\n"
     ]
    }
   ],
   "source": [
    "model = CatBoostRegressor()\n",
    "model.fit(x_t, y_t, silent = True)\n",
    "\n",
    "feature_importance_dict = {}\n",
    "\n",
    "for feature in list(model.feature_names_):\n",
    "    feature_importance_dict[feature] = round(list(model.feature_importances_)[list(model.feature_names_).index(feature)], 3)\n",
    "\n",
    "print(\"Train dataset accuracy is:       \", model.score(x_t, y_t))\n",
    "print(\"Development dataset accuracy is: \", model.score(x_d, y_d), \"\\n\")\n",
    "\n",
    "print(\"The most important features are:\" , feature_importance_dict)"
   ]
  },
  {
   "cell_type": "code",
   "execution_count": 145,
   "metadata": {},
   "outputs": [
    {
     "name": "stdout",
     "output_type": "stream",
     "text": [
      "Train dataset accuracy is:        0.9941588500335606\n",
      "Development dataset accuracy is:  0.9525676753630459 \n",
      "\n",
      "The most important features are: {'Year': 18.985, 'Present_Price': 52.651, 'Fuel_Type_int': 4.349, 'Seller_Type_int': 22.545, 'Transmission_int': 1.47}\n"
     ]
    }
   ],
   "source": [
    "model = CatBoostRegressor()\n",
    "model.fit(x_t_corr, y_t_corr, silent = True)\n",
    "\n",
    "feature_importance_dict = {}\n",
    "\n",
    "for feature in list(model.feature_names_):\n",
    "    feature_importance_dict[feature] = round(list(model.feature_importances_)[list(model.feature_names_).index(feature)], 3)\n",
    "\n",
    "print(\"Train dataset accuracy is:       \", model.score(x_t_corr, y_t_corr))\n",
    "print(\"Development dataset accuracy is: \", model.score(x_d_corr, y_d_corr), \"\\n\")\n",
    "\n",
    "print(\"The most important features are:\" , feature_importance_dict)"
   ]
  },
  {
   "cell_type": "markdown",
   "metadata": {},
   "source": [
    "[Project Content](#0)"
   ]
  },
  {
   "attachments": {},
   "cell_type": "markdown",
   "metadata": {},
   "source": [
    "## 14. Conclusion <a id = 14></a> "
   ]
  },
  {
   "attachments": {},
   "cell_type": "markdown",
   "metadata": {},
   "source": [
    "Awesome :)) We've done the best we could and it seems satisfactory.\n",
    "\n",
    "As a result the best model is CatBoostRegrssor as it has the most R-Squared value in development dataset (95.26 %).\n",
    "\n",
    "Also all regression models show better results when they get just correlated fields as input."
   ]
  },
  {
   "cell_type": "markdown",
   "metadata": {},
   "source": [
    "[Project Content](#0)"
   ]
  }
 ],
 "metadata": {
  "kernelspec": {
   "display_name": "tensorflow",
   "language": "python",
   "name": "python3"
  },
  "language_info": {
   "codemirror_mode": {
    "name": "ipython",
    "version": 3
   },
   "file_extension": ".py",
   "mimetype": "text/x-python",
   "name": "python",
   "nbconvert_exporter": "python",
   "pygments_lexer": "ipython3",
   "version": "3.9.13"
  },
  "vscode": {
   "interpreter": {
    "hash": "4bd624a0593993fe43ac4046b27b898fb2ef75c21c08f81e89e64ea0f51df676"
   }
  }
 },
 "nbformat": 4,
 "nbformat_minor": 5
}
